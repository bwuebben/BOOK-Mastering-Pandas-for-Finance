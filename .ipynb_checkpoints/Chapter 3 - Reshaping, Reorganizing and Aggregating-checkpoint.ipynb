{
 "cells": [
  {
   "cell_type": "code",
   "execution_count": 1,
   "metadata": {
    "collapsed": true
   },
   "outputs": [],
   "source": [
    "import pandas as pd\n",
    "import numpy as np\n",
    "import datetime\n",
    "import matplotlib.pyplot as plt\n",
    "%matplotlib inline\n",
    "\n",
    "pd.set_option('display.notebook_repr_html', False)\n",
    "pd.set_option('display.max_columns', 15)\n",
    "pd.set_option('display.max_rows', 12)\n",
    "pd.set_option('precision', 3)\n"
   ]
  },
  {
   "cell_type": "code",
   "execution_count": 3,
   "metadata": {},
   "outputs": [],
   "source": [
    "from pandas_datareader import data as web\n",
    "import fix_yahoo_finance as yf\n",
    "\n",
    "yf.pdr_override() # to override pandas_datareader.data.get_data_yahoo() method"
   ]
  },
  {
   "cell_type": "code",
   "execution_count": 4,
   "metadata": {
    "collapsed": true
   },
   "outputs": [],
   "source": [
    "start = datetime.datetime(2012, 1, 1)\n",
    "end = datetime.datetime(2012, 12, 30)"
   ]
  },
  {
   "cell_type": "code",
   "execution_count": 27,
   "metadata": {},
   "outputs": [
    {
     "name": "stdout",
     "output_type": "stream",
     "text": [
      "[*********************100%***********************]  1 of 1 downloaded\n",
      "[*********************100%***********************]  1 of 1 downloaded\n"
     ]
    }
   ],
   "source": [
    "msft = web.get_data_yahoo('MSFT', start=start, end=end)\n",
    "aapl = web.get_data_yahoo('AAPL', start=start, end=end)"
   ]
  },
  {
   "cell_type": "code",
   "execution_count": 28,
   "metadata": {
    "collapsed": true
   },
   "outputs": [],
   "source": [
    "# save the data to file\n",
    "msft.to_csv('msft1.csv')\n",
    "aapl.to_csv('aapl1.csv')"
   ]
  },
  {
   "cell_type": "raw",
   "metadata": {},
   "source": [
    "# to load the data from file:\n",
    "msft = pd.read_csv(\"msft.csv\", index_col=0, parse_dates=True)\n",
    "aapl = pd.read_csv(\"aapl.csv\", index_col=0, parse_dates=True)"
   ]
  },
  {
   "cell_type": "code",
   "execution_count": 29,
   "metadata": {},
   "outputs": [
    {
     "data": {
      "text/plain": [
       "             Open   High    Low  Close  Adj Close    Volume\n",
       "Date                                                       \n",
       "2012-01-03  26.55  26.96  26.39  26.77     22.689  64731500\n",
       "2012-01-04  26.82  27.47  26.78  27.40     23.223  80516100\n",
       "2012-01-05  27.38  27.73  27.29  27.68     23.460  56081400\n",
       "2012-01-06  27.53  28.19  27.53  28.11     23.824  99455500\n",
       "2012-01-09  28.05  28.10  27.72  27.74     23.511  59706800"
      ]
     },
     "execution_count": 29,
     "metadata": {},
     "output_type": "execute_result"
    }
   ],
   "source": [
    "msft.head()"
   ]
  },
  {
   "cell_type": "code",
   "execution_count": 7,
   "metadata": {
    "scrolled": true
   },
   "outputs": [
    {
     "data": {
      "text/plain": [
       "             Open   High    Low  Close  Adj Close    Volume\n",
       "Date                                                       \n",
       "2012-01-03  26.55  26.96  26.39  26.77     22.689  64731500\n",
       "2012-01-04  26.82  27.47  26.78  27.40     23.223  80516100\n",
       "2012-01-05  27.38  27.73  27.29  27.68     23.460  56081400"
      ]
     },
     "execution_count": 7,
     "metadata": {},
     "output_type": "execute_result"
    }
   ],
   "source": [
    "msft[:3]"
   ]
  },
  {
   "cell_type": "markdown",
   "metadata": {},
   "source": [
    "### Concatenating DataFrames"
   ]
  },
  {
   "cell_type": "code",
   "execution_count": 8,
   "metadata": {},
   "outputs": [
    {
     "data": {
      "text/plain": [
       "            Adj Close\n",
       "Date                 \n",
       "2012-01-03     22.689\n",
       "2012-01-04     23.223\n",
       "2012-01-05     23.460"
      ]
     },
     "execution_count": 8,
     "metadata": {},
     "output_type": "execute_result"
    }
   ],
   "source": [
    "msftA01 = msft['2012-01'][['Adj Close']]\n",
    "msftA02 = msft['2012-02'][['Adj Close']]\n",
    "msftA01[:3]"
   ]
  },
  {
   "cell_type": "code",
   "execution_count": 9,
   "metadata": {},
   "outputs": [
    {
     "data": {
      "text/plain": [
       "            Adj Close\n",
       "Date                 \n",
       "2012-02-01     25.333\n",
       "2012-02-02     25.384\n",
       "2012-02-03     25.630"
      ]
     },
     "execution_count": 9,
     "metadata": {},
     "output_type": "execute_result"
    }
   ],
   "source": [
    "msftA02[:3]"
   ]
  },
  {
   "cell_type": "code",
   "execution_count": 10,
   "metadata": {},
   "outputs": [
    {
     "data": {
      "text/plain": [
       "(20, 1)"
      ]
     },
     "execution_count": 10,
     "metadata": {},
     "output_type": "execute_result"
    }
   ],
   "source": [
    "msftA01.shape"
   ]
  },
  {
   "cell_type": "code",
   "execution_count": 11,
   "metadata": {},
   "outputs": [
    {
     "data": {
      "text/plain": [
       "            Adj Close\n",
       "Date                 \n",
       "2012-01-03     22.689\n",
       "2012-01-04     23.223\n",
       "2012-01-05     23.460\n",
       "2012-01-06     23.824\n",
       "2012-01-09     23.511\n",
       "2012-01-10     23.596\n",
       "...               ...\n",
       "2012-02-22     26.677\n",
       "2012-02-23     26.762\n",
       "2012-02-24     26.856\n",
       "2012-02-27     26.745\n",
       "2012-02-28     27.189\n",
       "2012-02-29     27.078\n",
       "\n",
       "[40 rows x 1 columns]"
      ]
     },
     "execution_count": 11,
     "metadata": {},
     "output_type": "execute_result"
    }
   ],
   "source": [
    "pd.concat([msftA01, msftA02])"
   ]
  },
  {
   "cell_type": "code",
   "execution_count": 12,
   "metadata": {},
   "outputs": [
    {
     "data": {
      "text/plain": [
       "            Adj Close\n",
       "Date                 \n",
       "2012-01-03     22.689\n",
       "2012-01-04     23.223\n",
       "2012-01-05     23.460\n",
       "2012-01-03     39.769\n",
       "2012-01-04     39.983\n",
       "2012-01-05     40.427"
      ]
     },
     "execution_count": 12,
     "metadata": {},
     "output_type": "execute_result"
    }
   ],
   "source": [
    "aaplA01 = aapl['2012-01'][['Adj Close']]\n",
    "withDups = pd.concat([msftA01[:3], aaplA01[:3]])\n",
    "withDups"
   ]
  },
  {
   "cell_type": "code",
   "execution_count": 13,
   "metadata": {},
   "outputs": [
    {
     "name": "stdout",
     "output_type": "stream",
     "text": [
      "            Adj Close\n",
      "Date                 \n",
      "2012-01-03     22.689\n",
      "2012-01-03     39.769\n",
      "            Adj Close\n",
      "Date                 \n",
      "2012-01-03     22.689\n",
      "2012-01-03     39.769\n"
     ]
    },
    {
     "name": "stderr",
     "output_type": "stream",
     "text": [
      "C:\\ProgramData\\Anaconda2\\lib\\site-packages\\ipykernel_launcher.py:1: DeprecationWarning: \n",
      ".ix is deprecated. Please use\n",
      ".loc for label based indexing or\n",
      ".iloc for positional indexing\n",
      "\n",
      "See the documentation here:\n",
      "http://pandas.pydata.org/pandas-docs/stable/indexing.html#ix-indexer-is-deprecated\n",
      "  \"\"\"Entry point for launching an IPython kernel.\n"
     ]
    }
   ],
   "source": [
    "print(withDups.ix['2012-01-03'])\n",
    "print(withDups.loc['2012-01-03'])"
   ]
  },
  {
   "cell_type": "code",
   "execution_count": 15,
   "metadata": {
    "scrolled": true
   },
   "outputs": [
    {
     "name": "stdout",
     "output_type": "stream",
     "text": [
      "                 Adj Close\n",
      "     Date                 \n",
      "MSFT 2012-01-03     22.689\n",
      "     2012-01-04     23.223\n",
      "     2012-01-05     23.460\n",
      "AAPL 2012-01-03     39.769\n",
      "     2012-01-04     39.983\n",
      "     2012-01-05     40.427\n"
     ]
    }
   ],
   "source": [
    "closes = pd.concat([msftA01[:3], aaplA01[:3]], keys=['MSFT', 'AAPL'])\n",
    "print(closes)"
   ]
  },
  {
   "cell_type": "code",
   "execution_count": 16,
   "metadata": {
    "scrolled": true
   },
   "outputs": [
    {
     "data": {
      "text/plain": [
       "                 Adj Close\n",
       "     Date                 \n",
       "MSFT 2012-01-03     22.689\n",
       "AAPL 2012-01-03     39.769"
      ]
     },
     "execution_count": 16,
     "metadata": {},
     "output_type": "execute_result"
    }
   ],
   "source": [
    "closes.loc(axis=0)[:, '2012-01-03']\n",
    "\n",
    "# multi-level indexing. More info on https://pandas.pydata.org/pandas-docs/stable/advanced.html#advanced-indexing-with-hierarchical-index"
   ]
  },
  {
   "cell_type": "code",
   "execution_count": 17,
   "metadata": {},
   "outputs": [
    {
     "data": {
      "text/plain": [
       "MultiIndex(levels=[[u'MSFT', u'AAPL'], [2012-01-03 00:00:00, 2012-01-04 00:00:00, 2012-01-05 00:00:00]],\n",
       "           labels=[[0, 0, 0, 1, 1, 1], [0, 1, 2, 0, 1, 2]],\n",
       "           names=[None, u'Date'])"
      ]
     },
     "execution_count": 17,
     "metadata": {},
     "output_type": "execute_result"
    }
   ],
   "source": [
    "closes.index"
   ]
  },
  {
   "cell_type": "code",
   "execution_count": 20,
   "metadata": {},
   "outputs": [
    {
     "data": {
      "text/plain": [
       "            Adj Close\n",
       "Date                 \n",
       "2012-01-03     22.689\n",
       "2012-01-04     23.223\n",
       "2012-01-05     23.460"
      ]
     },
     "execution_count": 20,
     "metadata": {},
     "output_type": "execute_result"
    }
   ],
   "source": [
    "closes.loc['MSFT'][:5]"
   ]
  },
  {
   "cell_type": "code",
   "execution_count": 21,
   "metadata": {},
   "outputs": [
    {
     "data": {
      "text/plain": [
       "            Adj Close    Volume\n",
       "Date                           \n",
       "2012-01-03     22.689  64731500\n",
       "2012-01-04     23.223  80516100\n",
       "2012-01-05     23.460  56081400\n",
       "2012-01-06     23.824  99455500\n",
       "2012-01-09     23.511  59706800\n",
       "2012-01-10     23.596  60014400\n",
       "...               ...       ...\n",
       "2012-12-20     24.123  52607300\n",
       "2012-12-21     23.923  98776500\n",
       "2012-12-24     23.583  20842400\n",
       "2012-12-26     23.409  31631100\n",
       "2012-12-27     23.496  39394000\n",
       "2012-12-28     23.139  28239900\n",
       "\n",
       "[498 rows x 2 columns]"
      ]
     },
     "execution_count": 21,
     "metadata": {},
     "output_type": "execute_result"
    }
   ],
   "source": [
    "msftAV = msft[['Adj Close', 'Volume']]\n",
    "aaplAV = msft[['Adj Close', 'Volume']]\n",
    "pd.concat([msftAV, aaplAV])"
   ]
  },
  {
   "cell_type": "code",
   "execution_count": 22,
   "metadata": {},
   "outputs": [
    {
     "data": {
      "text/plain": [
       "            Adj Close    Volume\n",
       "Date                           \n",
       "2012-01-03     22.689  64731500\n",
       "2012-01-03     22.689  64731500"
      ]
     },
     "execution_count": 22,
     "metadata": {},
     "output_type": "execute_result"
    }
   ],
   "source": [
    "msftAV = msft[['Adj Close', 'Volume']]\n",
    "aaplAV = msft[['Adj Close', 'Volume']]\n",
    "pd.concat([msftAV, aaplAV])['2012-01-03']\n",
    "\n",
    "# duplicated index"
   ]
  },
  {
   "cell_type": "code",
   "execution_count": 23,
   "metadata": {},
   "outputs": [
    {
     "data": {
      "text/plain": [
       "                 Adj Close    Volume\n",
       "     Date                           \n",
       "MSFT 2012-01-03     22.689  64731500\n",
       "     2012-01-04     23.223  80516100\n",
       "     2012-01-05     23.460  56081400\n",
       "     2012-01-06     23.824  99455500\n",
       "     2012-01-09     23.511  59706800\n",
       "     2012-01-10     23.596  60014400\n",
       "...                    ...       ...\n",
       "AAPL 2012-12-20     24.123  52607300\n",
       "     2012-12-21     23.923  98776500\n",
       "     2012-12-24     23.583  20842400\n",
       "     2012-12-26     23.409  31631100\n",
       "     2012-12-27     23.496  39394000\n",
       "     2012-12-28     23.139  28239900\n",
       "\n",
       "[498 rows x 2 columns]"
      ]
     },
     "execution_count": 23,
     "metadata": {},
     "output_type": "execute_result"
    }
   ],
   "source": [
    "msftAV = msft[['Adj Close', 'Volume']]\n",
    "aaplAV = msft[['Adj Close', 'Volume']]\n",
    "pd.concat([msftAV, aaplAV], keys=['MSFT', 'AAPL'])\n",
    "\n",
    "# duplicated index"
   ]
  },
  {
   "cell_type": "code",
   "execution_count": 24,
   "metadata": {
    "scrolled": true
   },
   "outputs": [
    {
     "data": {
      "text/plain": [
       "            Adj Close     Volume\n",
       "Date                            \n",
       "2012-01-03     22.689  6.473e+07\n",
       "2012-01-04     23.223  8.052e+07\n",
       "2012-01-05     23.460  5.608e+07\n",
       "2012-01-06     23.824  9.946e+07\n",
       "2012-01-09     23.511  5.971e+07\n",
       "2012-01-10     23.596  6.001e+07\n",
       "...               ...        ...\n",
       "2012-12-20     53.722        NaN\n",
       "2012-12-21     53.475        NaN\n",
       "2012-12-24     53.561        NaN\n",
       "2012-12-26     52.823        NaN\n",
       "2012-12-27     53.035        NaN\n",
       "2012-12-28     52.472        NaN\n",
       "\n",
       "[498 rows x 2 columns]"
      ]
     },
     "execution_count": 24,
     "metadata": {},
     "output_type": "execute_result"
    }
   ],
   "source": [
    "aaplA = aapl[['Adj Close']]\n",
    "pd.concat([msftAV, aaplA])"
   ]
  },
  {
   "cell_type": "code",
   "execution_count": 25,
   "metadata": {
    "scrolled": false
   },
   "outputs": [
    {
     "data": {
      "text/plain": [
       "            Adj Close\n",
       "Date                 \n",
       "2012-01-03     22.689\n",
       "2012-01-04     23.223\n",
       "2012-01-05     23.460\n",
       "2012-01-06     23.824\n",
       "2012-01-09     23.511\n",
       "2012-01-10     23.596\n",
       "...               ...\n",
       "2012-12-20     53.722\n",
       "2012-12-21     53.475\n",
       "2012-12-24     53.561\n",
       "2012-12-26     52.823\n",
       "2012-12-27     53.035\n",
       "2012-12-28     52.472\n",
       "\n",
       "[498 rows x 1 columns]"
      ]
     },
     "execution_count": 25,
     "metadata": {},
     "output_type": "execute_result"
    }
   ],
   "source": [
    "pd.concat([msftAV, aaplA], join='inner')"
   ]
  },
  {
   "cell_type": "code",
   "execution_count": 54,
   "metadata": {
    "scrolled": true
   },
   "outputs": [
    {
     "data": {
      "text/plain": [
       "            Adj Close\n",
       "Date                 \n",
       "2012-01-03     22.910\n",
       "2012-01-04     23.449\n",
       "2012-01-05     23.689\n",
       "2012-01-06     24.057\n",
       "...               ...\n",
       "2012-12-24     67.447\n",
       "2012-12-26     66.517\n",
       "2012-12-27     66.785\n",
       "2012-12-28     66.075\n",
       "\n",
       "[498 rows x 1 columns]"
      ]
     },
     "execution_count": 54,
     "metadata": {},
     "output_type": "execute_result"
    }
   ],
   "source": [
    "pd.concat([msftAV, aaplA], join='inner')"
   ]
  },
  {
   "cell_type": "code",
   "execution_count": 61,
   "metadata": {},
   "outputs": [
    {
     "data": {
      "text/plain": [
       "            Adj Close    Volume  Adj Close\n",
       "Date                                      \n",
       "2012-01-03     22.910  64731500     52.852\n",
       "2012-01-04     23.449  80516100     53.136\n",
       "2012-01-05     23.689  56081400     53.726\n",
       "2012-01-06     24.057  99455500     54.288\n",
       "...               ...       ...        ...\n",
       "2012-12-24     23.813  20842400     67.447\n",
       "2012-12-26     23.637  31631100     66.517\n",
       "2012-12-27     23.725  39394000     66.785\n",
       "2012-12-28     23.364  28239900     66.075\n",
       "\n",
       "[249 rows x 3 columns]"
      ]
     },
     "execution_count": 61,
     "metadata": {},
     "output_type": "execute_result"
    }
   ],
   "source": [
    "pd.concat([msftAV, aaplA], axis=1)"
   ]
  },
  {
   "cell_type": "code",
   "execution_count": 62,
   "metadata": {},
   "outputs": [
    {
     "data": {
      "text/plain": [
       "            Adj Close  Adj Close\n",
       "Date                            \n",
       "2012-01-03     22.910     52.852\n",
       "2012-01-04     23.449     53.136\n",
       "2012-01-05     23.689     53.726"
      ]
     },
     "execution_count": 62,
     "metadata": {},
     "output_type": "execute_result"
    }
   ],
   "source": [
    "msftA = msft[['Adj Close']]\n",
    "closes = pd.concat([msftA, aaplA], axis=1)\n",
    "closes[:3]"
   ]
  },
  {
   "cell_type": "code",
   "execution_count": 72,
   "metadata": {
    "scrolled": true
   },
   "outputs": [
    {
     "data": {
      "text/plain": [
       "                MSFT                AAPl          \n",
       "           Adj Close    Volume Adj Close    Volume\n",
       "Date                                              \n",
       "2012-01-03    22.910  64731500    22.910  64731500\n",
       "2012-01-04    23.449  80516100    23.449  80516100\n",
       "2012-01-05    23.689  56081400    23.689  56081400\n",
       "2012-01-06    24.057  99455500    24.057  99455500\n",
       "2012-01-09    23.740  59706800    23.740  59706800"
      ]
     },
     "execution_count": 72,
     "metadata": {},
     "output_type": "execute_result"
    }
   ],
   "source": [
    "data = pd.concat([msftAV, aaplAV], axis=1, keys=['MSFT', 'AAPl'])\n",
    "data.head()"
   ]
  },
  {
   "cell_type": "code",
   "execution_count": 73,
   "metadata": {},
   "outputs": [
    {
     "data": {
      "text/plain": [
       "MSFT  Adj Close    2.291e+01\n",
       "      Volume       6.473e+07\n",
       "AAPl  Adj Close    2.291e+01\n",
       "      Volume       6.473e+07\n",
       "Name: 2012-01-03 00:00:00, dtype: float64"
      ]
     },
     "execution_count": 73,
     "metadata": {},
     "output_type": "execute_result"
    }
   ],
   "source": [
    "data.loc['2012-01-03']"
   ]
  },
  {
   "cell_type": "code",
   "execution_count": 82,
   "metadata": {
    "scrolled": false
   },
   "outputs": [
    {
     "data": {
      "text/plain": [
       "                MSFT      AAPl\n",
       "           Adj Close Adj Close\n",
       "Date                          \n",
       "2012-01-03    22.910    52.852\n",
       "2012-01-04    23.449    53.136\n",
       "2012-01-05    23.689    53.726\n",
       "2012-01-06    24.057    54.288\n",
       "...              ...       ...\n",
       "2012-12-24    23.813    67.447\n",
       "2012-12-26    23.637    66.517\n",
       "2012-12-27    23.725    66.785\n",
       "2012-12-28    23.364    66.075\n",
       "\n",
       "[249 rows x 2 columns]"
      ]
     },
     "execution_count": 82,
     "metadata": {},
     "output_type": "execute_result"
    }
   ],
   "source": [
    "data = pd.concat([msftA, aaplA], axis=1, keys=['MSFT', 'AAPl'], join='inner')\n",
    "data"
   ]
  },
  {
   "cell_type": "markdown",
   "metadata": {},
   "source": [
    "### Merging DataFrame objects"
   ]
  },
  {
   "cell_type": "code",
   "execution_count": 89,
   "metadata": {},
   "outputs": [
    {
     "name": "stdout",
     "output_type": "stream",
     "text": [
      "        Date    Volume\n",
      "0 2012-01-03  64731500\n",
      "1 2012-01-04  80516100\n",
      "2 2012-01-05  56081400\n",
      "3 2012-01-06  99455500\n",
      "4 2012-01-09  59706800\n",
      "        Date  Adj Close\n",
      "0 2012-01-03     22.910\n",
      "1 2012-01-04     23.449\n",
      "2 2012-01-05     23.689\n",
      "3 2012-01-06     24.057\n",
      "4 2012-01-09     23.740\n"
     ]
    }
   ],
   "source": [
    "msftAR = msftA.reset_index()\n",
    "msftVR = msft.Volume.reset_index()\n",
    "\n",
    "print(msftVR.head())\n",
    "print(msftAR.head())"
   ]
  },
  {
   "cell_type": "code",
   "execution_count": 93,
   "metadata": {},
   "outputs": [
    {
     "data": {
      "text/plain": [
       "             Open   High    Low  Close  Adj Close    Volume\n",
       "Date                                                       \n",
       "2012-01-03  26.55  26.96  26.39  26.77     22.910  64731500\n",
       "2012-01-04  26.82  27.47  26.78  27.40     23.449  80516100\n",
       "2012-01-05  27.38  27.73  27.29  27.68     23.689  56081400\n",
       "2012-01-06  27.53  28.19  27.53  28.11     24.057  99455500\n",
       "2012-01-09  28.05  28.10  27.72  27.74     23.740  59706800"
      ]
     },
     "execution_count": 93,
     "metadata": {},
     "output_type": "execute_result"
    }
   ],
   "source": [
    "msftCVR = pd.merge(msftAR, msftVR)\n",
    "msft.head()"
   ]
  },
  {
   "cell_type": "code",
   "execution_count": 94,
   "metadata": {},
   "outputs": [
    {
     "data": {
      "text/plain": [
       "        Date  Adj Close\n",
       "0 2012-01-03     22.910\n",
       "1 2012-01-04     23.449\n",
       "2 2012-01-05     23.689\n",
       "3 2012-01-06     24.057\n",
       "4 2012-01-09     23.740"
      ]
     },
     "execution_count": 94,
     "metadata": {},
     "output_type": "execute_result"
    }
   ],
   "source": [
    "msftAR0_5 = msftAR[:5]\n",
    "msftAR0_5"
   ]
  },
  {
   "cell_type": "code",
   "execution_count": 95,
   "metadata": {},
   "outputs": [
    {
     "data": {
      "text/plain": [
       "        Date    Volume\n",
       "2 2012-01-05  56081400\n",
       "3 2012-01-06  99455500"
      ]
     },
     "execution_count": 95,
     "metadata": {},
     "output_type": "execute_result"
    }
   ],
   "source": [
    "msftVR2_4 = msftVR[2:4]\n",
    "msftVR2_4"
   ]
  },
  {
   "cell_type": "code",
   "execution_count": 99,
   "metadata": {},
   "outputs": [
    {
     "data": {
      "text/plain": [
       "        Date  Adj Close    Volume\n",
       "0 2012-01-05     23.689  56081400\n",
       "1 2012-01-06     24.057  99455500"
      ]
     },
     "execution_count": 99,
     "metadata": {},
     "output_type": "execute_result"
    }
   ],
   "source": [
    "pd.merge(msftAR0_5, msftVR2_4, how='inner')"
   ]
  },
  {
   "cell_type": "code",
   "execution_count": 100,
   "metadata": {},
   "outputs": [
    {
     "data": {
      "text/plain": [
       "        Date  Adj Close     Volume\n",
       "0 2012-01-03     22.910        NaN\n",
       "1 2012-01-04     23.449        NaN\n",
       "2 2012-01-05     23.689  5.608e+07\n",
       "3 2012-01-06     24.057  9.946e+07\n",
       "4 2012-01-09     23.740        NaN"
      ]
     },
     "execution_count": 100,
     "metadata": {},
     "output_type": "execute_result"
    }
   ],
   "source": [
    "pd.merge(msftAR0_5, msftVR2_4, how='outer')"
   ]
  },
  {
   "cell_type": "code",
   "execution_count": 101,
   "metadata": {},
   "outputs": [
    {
     "data": {
      "text/plain": [
       "        Date  Adj Close     Volume\n",
       "0 2012-01-03     22.910        NaN\n",
       "1 2012-01-04     23.449        NaN\n",
       "2 2012-01-05     23.689  5.608e+07\n",
       "3 2012-01-06     24.057  9.946e+07\n",
       "4 2012-01-09     23.740        NaN"
      ]
     },
     "execution_count": 101,
     "metadata": {},
     "output_type": "execute_result"
    }
   ],
   "source": [
    "pd.merge(msftAR0_5, msftVR2_4, how='left')"
   ]
  },
  {
   "cell_type": "code",
   "execution_count": 102,
   "metadata": {},
   "outputs": [
    {
     "data": {
      "text/plain": [
       "        Date  Adj Close    Volume\n",
       "0 2012-01-05     23.689  56081400\n",
       "1 2012-01-06     24.057  99455500"
      ]
     },
     "execution_count": 102,
     "metadata": {},
     "output_type": "execute_result"
    }
   ],
   "source": [
    "pd.merge(msftAR0_5, msftVR2_4, how='right')"
   ]
  },
  {
   "cell_type": "markdown",
   "metadata": {},
   "source": [
    "### Pivoting"
   ]
  },
  {
   "cell_type": "code",
   "execution_count": 103,
   "metadata": {},
   "outputs": [
    {
     "data": {
      "text/plain": [
       "           Symbol   Open   High    Low  Close  Adj Close    Volume\n",
       "Date                                                              \n",
       "2012-01-03   MSFT  26.55  26.96  26.39  26.77     22.910  64731500\n",
       "2012-01-04   MSFT  26.82  27.47  26.78  27.40     23.449  80516100\n",
       "2012-01-05   MSFT  27.38  27.73  27.29  27.68     23.689  56081400\n",
       "2012-01-06   MSFT  27.53  28.19  27.53  28.11     24.057  99455500\n",
       "...           ...    ...    ...    ...    ...        ...       ...\n",
       "2012-12-24   MSFT  27.20  27.25  27.00  27.06     23.813  20842400\n",
       "2012-12-26   MSFT  27.03  27.20  26.70  26.86     23.637  31631100\n",
       "2012-12-27   MSFT  26.89  27.09  26.57  26.96     23.725  39394000\n",
       "2012-12-28   MSFT  26.71  26.90  26.55  26.55     23.364  28239900\n",
       "\n",
       "[249 rows x 7 columns]"
      ]
     },
     "execution_count": 103,
     "metadata": {},
     "output_type": "execute_result"
    }
   ],
   "source": [
    "msft.insert(0, 'Symbol', 'MSFT')\n",
    "msft"
   ]
  },
  {
   "cell_type": "code",
   "execution_count": null,
   "metadata": {
    "collapsed": true
   },
   "outputs": [],
   "source": [
    "aapl.insert(0, 'Symbol', 'AAPL')"
   ]
  },
  {
   "cell_type": "code",
   "execution_count": 113,
   "metadata": {},
   "outputs": [
    {
     "data": {
      "text/plain": [
       "          Date Symbol    Open    High     Low   Close  Adj Close     Volume\n",
       "0   2012-01-03   MSFT  26.550  26.960  26.390  26.770     22.910   64731500\n",
       "1   2012-01-03   AAPL  58.486  58.929  58.429  58.747     52.852   75555200\n",
       "2   2012-01-04   MSFT  26.820  27.470  26.780  27.400     23.449   80516100\n",
       "3   2012-01-04   AAPL  58.571  59.240  58.469  59.063     53.136   65005500\n",
       "..         ...    ...     ...     ...     ...     ...        ...        ...\n",
       "494 2012-12-27   AAPL  73.363  73.750  72.094  73.580     66.785  113780100\n",
       "495 2012-12-27   MSFT  26.890  27.090  26.570  26.960     23.725   39394000\n",
       "496 2012-12-28   MSFT  26.710  26.900  26.550  26.550     23.364   28239900\n",
       "497 2012-12-28   AAPL  72.899  73.497  72.589  72.799     66.075   88569600\n",
       "\n",
       "[498 rows x 8 columns]"
      ]
     },
     "execution_count": 113,
     "metadata": {},
     "output_type": "execute_result"
    }
   ],
   "source": [
    "combined = pd.concat([msft, aapl])\n",
    "s4p = combined.sort_index().reset_index()\n",
    "s4p"
   ]
  },
  {
   "cell_type": "code",
   "execution_count": 114,
   "metadata": {},
   "outputs": [
    {
     "data": {
      "text/plain": [
       "Symbol        AAPL    MSFT\n",
       "Date                      \n",
       "2012-01-03  52.852  22.910\n",
       "2012-01-04  53.136  23.449\n",
       "2012-01-05  53.726  23.689\n",
       "2012-01-06  54.288  24.057\n",
       "2012-01-09  54.202  23.740"
      ]
     },
     "execution_count": 114,
     "metadata": {},
     "output_type": "execute_result"
    }
   ],
   "source": [
    "closes = s4p.pivot(index='Date', columns='Symbol', values='Adj Close')\n",
    "closes.head()"
   ]
  },
  {
   "cell_type": "markdown",
   "metadata": {},
   "source": [
    "### Stacking and unstacking"
   ]
  },
  {
   "cell_type": "code",
   "execution_count": 117,
   "metadata": {},
   "outputs": [
    {
     "data": {
      "text/plain": [
       "Date        Symbol\n",
       "2012-01-03  AAPL      52.852\n",
       "            MSFT      22.910\n",
       "2012-01-04  AAPL      53.136\n",
       "            MSFT      23.449\n",
       "                       ...  \n",
       "2012-12-27  AAPL      66.785\n",
       "            MSFT      23.725\n",
       "2012-12-28  AAPL      66.075\n",
       "            MSFT      23.364\n",
       "dtype: float64"
      ]
     },
     "execution_count": 117,
     "metadata": {},
     "output_type": "execute_result"
    }
   ],
   "source": [
    "stackedCloses = closes.stack()\n",
    "stackedCloses"
   ]
  },
  {
   "cell_type": "code",
   "execution_count": 120,
   "metadata": {},
   "outputs": [
    {
     "data": {
      "text/plain": [
       "52.852215000000001"
      ]
     },
     "execution_count": 120,
     "metadata": {},
     "output_type": "execute_result"
    }
   ],
   "source": [
    "stackedCloses.ix['2012-01-03']['AAPL']"
   ]
  },
  {
   "cell_type": "code",
   "execution_count": 121,
   "metadata": {},
   "outputs": [
    {
     "data": {
      "text/plain": [
       "52.852215000000001"
      ]
     },
     "execution_count": 121,
     "metadata": {},
     "output_type": "execute_result"
    }
   ],
   "source": [
    "stackedCloses.ix['2012-01-03', 'AAPL']"
   ]
  },
  {
   "cell_type": "code",
   "execution_count": 122,
   "metadata": {},
   "outputs": [
    {
     "data": {
      "text/plain": [
       "Symbol        AAPL    MSFT\n",
       "Date                      \n",
       "2012-01-03  52.852  22.910\n",
       "2012-01-04  53.136  23.449\n",
       "2012-01-05  53.726  23.689\n",
       "2012-01-06  54.288  24.057\n",
       "...            ...     ...\n",
       "2012-12-24  67.447  23.813\n",
       "2012-12-26  66.517  23.637\n",
       "2012-12-27  66.785  23.725\n",
       "2012-12-28  66.075  23.364\n",
       "\n",
       "[249 rows x 2 columns]"
      ]
     },
     "execution_count": 122,
     "metadata": {},
     "output_type": "execute_result"
    }
   ],
   "source": [
    "stackedCloses.unstack()"
   ]
  },
  {
   "cell_type": "markdown",
   "metadata": {},
   "source": [
    "### Melting"
   ]
  },
  {
   "cell_type": "code",
   "execution_count": 144,
   "metadata": {},
   "outputs": [
    {
     "data": {
      "text/plain": [
       "           Date Symbol variable      value\n",
       "0    2012-01-03   MSFT     Open  2.655e+01\n",
       "1    2012-01-03   AAPL     Open  5.849e+01\n",
       "2    2012-01-04   MSFT     Open  2.682e+01\n",
       "3    2012-01-04   AAPL     Open  5.857e+01\n",
       "4    2012-01-05   MSFT     Open  2.738e+01\n",
       "5    2012-01-05   AAPL     Open  5.928e+01\n",
       "...         ...    ...      ...        ...\n",
       "2982 2012-12-26   AAPL   Volume  7.561e+07\n",
       "2983 2012-12-26   MSFT   Volume  3.163e+07\n",
       "2984 2012-12-27   AAPL   Volume  1.138e+08\n",
       "2985 2012-12-27   MSFT   Volume  3.939e+07\n",
       "2986 2012-12-28   MSFT   Volume  2.824e+07\n",
       "2987 2012-12-28   AAPL   Volume  8.857e+07\n",
       "\n",
       "[2988 rows x 4 columns]"
      ]
     },
     "execution_count": 144,
     "metadata": {},
     "output_type": "execute_result"
    }
   ],
   "source": [
    "melted = pd.melt(s4p, id_vars=['Date', 'Symbol'])\n",
    "melted"
   ]
  },
  {
   "cell_type": "code",
   "execution_count": 145,
   "metadata": {},
   "outputs": [
    {
     "data": {
      "text/plain": [
       "         Date Symbol variable   value\n",
       "1  2012-01-03   AAPL     Open  58.486\n",
       "3  2012-01-04   AAPL     Open  58.571\n",
       "5  2012-01-05   AAPL     Open  59.279\n",
       "7  2012-01-06   AAPL     Open  59.967\n",
       "9  2012-01-09   AAPL     Open  60.786\n",
       "11 2012-01-10   AAPL     Open  60.844\n",
       "13 2012-01-11   AAPL     Open  60.383\n",
       "14 2012-01-12   AAPL     Open  60.326\n",
       "16 2012-01-13   AAPL     Open  59.957\n",
       "18 2012-01-17   AAPL     Open  60.600"
      ]
     },
     "execution_count": 145,
     "metadata": {},
     "output_type": "execute_result"
    }
   ],
   "source": [
    "melted[melted.Symbol=='AAPL'][:10]"
   ]
  },
  {
   "cell_type": "code",
   "execution_count": 146,
   "metadata": {},
   "outputs": [
    {
     "data": {
      "text/plain": [
       "         Date Symbol variable   value\n",
       "10 2012-01-10   MSFT     Open  27.930\n",
       "11 2012-01-10   AAPL     Open  60.844\n",
       "12 2012-01-11   MSFT     Open  27.430\n",
       "13 2012-01-11   AAPL     Open  60.383\n",
       "14 2012-01-12   AAPL     Open  60.326\n",
       "15 2012-01-12   MSFT     Open  27.870\n",
       "16 2012-01-13   AAPL     Open  59.957\n",
       "17 2012-01-13   MSFT     Open  27.930\n",
       "18 2012-01-17   AAPL     Open  60.600\n",
       "19 2012-01-17   MSFT     Open  28.400"
      ]
     },
     "execution_count": 146,
     "metadata": {},
     "output_type": "execute_result"
    }
   ],
   "source": [
    "melted[10:20]"
   ]
  },
  {
   "cell_type": "code",
   "execution_count": 148,
   "metadata": {},
   "outputs": [
    {
     "data": {
      "text/plain": [
       "           Date Symbol   variable      value\n",
       "0    2012-01-03   MSFT       Open  2.655e+01\n",
       "498  2012-01-03   MSFT       High  2.696e+01\n",
       "996  2012-01-03   MSFT        Low  2.639e+01\n",
       "1494 2012-01-03   MSFT      Close  2.677e+01\n",
       "1992 2012-01-03   MSFT  Adj Close  2.291e+01\n",
       "2490 2012-01-03   MSFT     Volume  6.473e+07"
      ]
     },
     "execution_count": 148,
     "metadata": {},
     "output_type": "execute_result"
    }
   ],
   "source": [
    "melted[(melted.Date=='2012-01-03') & (melted.Symbol=='MSFT')]"
   ]
  },
  {
   "cell_type": "markdown",
   "metadata": {},
   "source": [
    "### Grouping and aggregating"
   ]
  },
  {
   "cell_type": "code",
   "execution_count": 156,
   "metadata": {},
   "outputs": [
    {
     "data": {
      "text/plain": [
       "           Symbol   Open   High    Low  Close  Adj Close    Volume\n",
       "Date                                                              \n",
       "2012-01-03   MSFT  26.55  26.96  26.39  26.77     22.910  64731500\n",
       "2012-01-04   MSFT  26.82  27.47  26.78  27.40     23.449  80516100\n",
       "2012-01-05   MSFT  27.38  27.73  27.29  27.68     23.689  56081400\n",
       "2012-01-06   MSFT  27.53  28.19  27.53  28.11     24.057  99455500\n",
       "2012-01-09   MSFT  28.05  28.10  27.72  27.74     23.740  59706800"
      ]
     },
     "execution_count": 156,
     "metadata": {},
     "output_type": "execute_result"
    }
   ],
   "source": [
    "combined.head()"
   ]
  },
  {
   "cell_type": "code",
   "execution_count": 154,
   "metadata": {},
   "outputs": [
    {
     "data": {
      "text/plain": [
       "          Date  Year  Month Symbol  Adj Close\n",
       "0   2012-01-03  2012      1   MSFT     22.910\n",
       "1   2012-01-04  2012      1   MSFT     23.449\n",
       "2   2012-01-05  2012      1   MSFT     23.689\n",
       "3   2012-01-06  2012      1   MSFT     24.057\n",
       "4   2012-01-09  2012      1   MSFT     23.740\n",
       "5   2012-01-10  2012      1   MSFT     23.826\n",
       "..         ...   ...    ...    ...        ...\n",
       "492 2012-12-20  2012     12   AAPL     67.649\n",
       "493 2012-12-21  2012     12   AAPL     67.338\n",
       "494 2012-12-24  2012     12   AAPL     67.447\n",
       "495 2012-12-26  2012     12   AAPL     66.517\n",
       "496 2012-12-27  2012     12   AAPL     66.785\n",
       "497 2012-12-28  2012     12   AAPL     66.075\n",
       "\n",
       "[498 rows x 5 columns]"
      ]
     },
     "execution_count": 154,
     "metadata": {},
     "output_type": "execute_result"
    }
   ],
   "source": [
    "s4g = combined[['Symbol', 'Adj Close']].reset_index()\n",
    "s4g.insert(1, 'Year', pd.DatetimeIndex(s4g.Date).year)\n",
    "s4g.insert(2, 'Month', pd.DatetimeIndex(s4g.Date).month)\n",
    "s4g"
   ]
  },
  {
   "cell_type": "code",
   "execution_count": 159,
   "metadata": {},
   "outputs": [
    {
     "data": {
      "text/plain": [
       "<pandas.core.groupby.DataFrameGroupBy object at 0x000000000B927390>"
      ]
     },
     "execution_count": 159,
     "metadata": {},
     "output_type": "execute_result"
    }
   ],
   "source": [
    "s4g.groupby('Symbol')"
   ]
  },
  {
   "cell_type": "code",
   "execution_count": 163,
   "metadata": {},
   "outputs": [
    {
     "data": {
      "text/plain": [
       "{'AAPL': Int64Index([249, 250, 251, 252, 253, 254, 255, 256, 257, 258,\n",
       "             ...\n",
       "             488, 489, 490, 491, 492, 493, 494, 495, 496, 497],\n",
       "            dtype='int64', length=249),\n",
       " 'MSFT': Int64Index([  0,   1,   2,   3,   4,   5,   6,   7,   8,   9,\n",
       "             ...\n",
       "             239, 240, 241, 242, 243, 244, 245, 246, 247, 248],\n",
       "            dtype='int64', length=249)}"
      ]
     },
     "execution_count": 163,
     "metadata": {},
     "output_type": "execute_result"
    }
   ],
   "source": [
    "grouped = s4g.groupby('Symbol')\n",
    "grouped.groups"
   ]
  },
  {
   "cell_type": "code",
   "execution_count": 165,
   "metadata": {},
   "outputs": [
    {
     "data": {
      "text/plain": [
       "(2, 2)"
      ]
     },
     "execution_count": 165,
     "metadata": {},
     "output_type": "execute_result"
    }
   ],
   "source": [
    "len(grouped), grouped.ngroups"
   ]
  },
  {
   "cell_type": "code",
   "execution_count": 169,
   "metadata": {},
   "outputs": [
    {
     "data": {
      "text/plain": [
       "[('AAPL',\n",
       "  <bound method DataFrame.head of           Date  Year  Month Symbol  Adj Close\n",
       "  249 2012-01-03  2012      1   AAPL     52.852\n",
       "  250 2012-01-04  2012      1   AAPL     53.136\n",
       "  251 2012-01-05  2012      1   AAPL     53.726\n",
       "  252 2012-01-06  2012      1   AAPL     54.288\n",
       "  253 2012-01-09  2012      1   AAPL     54.202\n",
       "  254 2012-01-10  2012      1   AAPL     54.396\n",
       "  ..         ...   ...    ...    ...        ...\n",
       "  492 2012-12-20  2012     12   AAPL     67.649\n",
       "  493 2012-12-21  2012     12   AAPL     67.338\n",
       "  494 2012-12-24  2012     12   AAPL     67.447\n",
       "  495 2012-12-26  2012     12   AAPL     66.517\n",
       "  496 2012-12-27  2012     12   AAPL     66.785\n",
       "  497 2012-12-28  2012     12   AAPL     66.075\n",
       "  \n",
       "  [249 rows x 5 columns]>),\n",
       " ('MSFT',\n",
       "  <bound method DataFrame.head of           Date  Year  Month Symbol  Adj Close\n",
       "  0   2012-01-03  2012      1   MSFT     22.910\n",
       "  1   2012-01-04  2012      1   MSFT     23.449\n",
       "  2   2012-01-05  2012      1   MSFT     23.689\n",
       "  3   2012-01-06  2012      1   MSFT     24.057\n",
       "  4   2012-01-09  2012      1   MSFT     23.740\n",
       "  5   2012-01-10  2012      1   MSFT     23.826\n",
       "  ..         ...   ...    ...    ...        ...\n",
       "  243 2012-12-20  2012     12   MSFT     24.359\n",
       "  244 2012-12-21  2012     12   MSFT     24.156\n",
       "  245 2012-12-24  2012     12   MSFT     23.813\n",
       "  246 2012-12-26  2012     12   MSFT     23.637\n",
       "  247 2012-12-27  2012     12   MSFT     23.725\n",
       "  248 2012-12-28  2012     12   MSFT     23.364\n",
       "  \n",
       "  [249 rows x 5 columns]>)]"
      ]
     },
     "execution_count": 169,
     "metadata": {},
     "output_type": "execute_result"
    }
   ],
   "source": [
    "[(name, group.head) for name, group in grouped]"
   ]
  },
  {
   "cell_type": "code",
   "execution_count": 182,
   "metadata": {
    "scrolled": false
   },
   "outputs": [
    {
     "name": "stdout",
     "output_type": "stream",
     "text": [
      "AAPL\n",
      "          Date  Year  Month Symbol  Adj Close\n",
      "249 2012-01-03  2012      1   AAPL     52.852\n",
      "250 2012-01-04  2012      1   AAPL     53.136\n",
      "251 2012-01-05  2012      1   AAPL     53.726\n",
      "252 2012-01-06  2012      1   AAPL     54.288\n",
      "253 2012-01-09  2012      1   AAPL     54.202\n",
      "MSFT\n",
      "        Date  Year  Month Symbol  Adj Close\n",
      "0 2012-01-03  2012      1   MSFT     22.910\n",
      "1 2012-01-04  2012      1   MSFT     23.449\n",
      "2 2012-01-05  2012      1   MSFT     23.689\n",
      "3 2012-01-06  2012      1   MSFT     24.057\n",
      "4 2012-01-09  2012      1   MSFT     23.740\n"
     ]
    }
   ],
   "source": [
    "def print_groups(group_object):\n",
    "    for name, group in group_object:\n",
    "        print(name)\n",
    "        print(group.head())\n",
    "        \n",
    "print_groups(grouped)"
   ]
  },
  {
   "cell_type": "code",
   "execution_count": 172,
   "metadata": {},
   "outputs": [
    {
     "data": {
      "text/plain": [
       "Symbol\n",
       "AAPL    249\n",
       "MSFT    249\n",
       "dtype: int64"
      ]
     },
     "execution_count": 172,
     "metadata": {},
     "output_type": "execute_result"
    }
   ],
   "source": [
    "grouped.size()"
   ]
  },
  {
   "cell_type": "code",
   "execution_count": 173,
   "metadata": {},
   "outputs": [
    {
     "data": {
      "text/plain": [
       "          Date  Year  Month Symbol  Adj Close\n",
       "0   2012-01-03  2012      1   MSFT     22.910\n",
       "1   2012-01-04  2012      1   MSFT     23.449\n",
       "2   2012-01-05  2012      1   MSFT     23.689\n",
       "3   2012-01-06  2012      1   MSFT     24.057\n",
       "4   2012-01-09  2012      1   MSFT     23.740\n",
       "5   2012-01-10  2012      1   MSFT     23.826\n",
       "..         ...   ...    ...    ...        ...\n",
       "243 2012-12-20  2012     12   MSFT     24.359\n",
       "244 2012-12-21  2012     12   MSFT     24.156\n",
       "245 2012-12-24  2012     12   MSFT     23.813\n",
       "246 2012-12-26  2012     12   MSFT     23.637\n",
       "247 2012-12-27  2012     12   MSFT     23.725\n",
       "248 2012-12-28  2012     12   MSFT     23.364\n",
       "\n",
       "[249 rows x 5 columns]"
      ]
     },
     "execution_count": 173,
     "metadata": {},
     "output_type": "execute_result"
    }
   ],
   "source": [
    "grouped.get_group('MSFT')"
   ]
  },
  {
   "cell_type": "code",
   "execution_count": 183,
   "metadata": {},
   "outputs": [
    {
     "name": "stdout",
     "output_type": "stream",
     "text": [
      "('AAPL', 2012, 1)\n",
      "          Date  Year  Month Symbol  Adj Close\n",
      "249 2012-01-03  2012      1   AAPL     52.852\n",
      "250 2012-01-04  2012      1   AAPL     53.136\n",
      "251 2012-01-05  2012      1   AAPL     53.726\n",
      "252 2012-01-06  2012      1   AAPL     54.288\n",
      "253 2012-01-09  2012      1   AAPL     54.202\n",
      "('AAPL', 2012, 2)\n",
      "          Date  Year  Month Symbol  Adj Close\n",
      "269 2012-02-01  2012      2   AAPL     58.631\n",
      "270 2012-02-02  2012      2   AAPL     58.493\n",
      "271 2012-02-03  2012      2   AAPL     59.079\n",
      "272 2012-02-06  2012      2   AAPL     59.630\n",
      "273 2012-02-07  2012      2   AAPL     60.255\n",
      "('AAPL', 2012, 3)\n",
      "          Date  Year  Month Symbol  Adj Close\n",
      "289 2012-03-01  2012      3   AAPL     69.977\n",
      "290 2012-03-02  2012      3   AAPL     70.068\n",
      "291 2012-03-05  2012      3   AAPL     68.523\n",
      "292 2012-03-06  2012      3   AAPL     68.150\n",
      "293 2012-03-07  2012      3   AAPL     68.205\n",
      "('AAPL', 2012, 4)\n",
      "          Date  Year  Month Symbol  Adj Close\n",
      "311 2012-04-02  2012      4   AAPL     79.508\n",
      "312 2012-04-03  2012      4   AAPL     80.882\n",
      "313 2012-04-04  2012      4   AAPL     80.238\n",
      "314 2012-04-05  2012      4   AAPL     81.442\n",
      "315 2012-04-09  2012      4   AAPL     81.770\n",
      "('AAPL', 2012, 5)\n",
      "          Date  Year  Month Symbol  Adj Close\n",
      "331 2012-05-01  2012      5   AAPL     74.817\n",
      "332 2012-05-02  2012      5   AAPL     75.311\n",
      "333 2012-05-03  2012      5   AAPL     74.777\n",
      "334 2012-05-04  2012      5   AAPL     72.647\n",
      "335 2012-05-07  2012      5   AAPL     73.191\n",
      "('AAPL', 2012, 6)\n",
      "          Date  Year  Month Symbol  Adj Close\n",
      "353 2012-06-01  2012      6   AAPL     72.100\n",
      "354 2012-06-04  2012      6   AAPL     72.524\n",
      "355 2012-06-05  2012      6   AAPL     72.336\n",
      "356 2012-06-06  2012      6   AAPL     73.445\n",
      "357 2012-06-07  2012      6   AAPL     73.479\n",
      "('AAPL', 2012, 7)\n",
      "          Date  Year  Month Symbol  Adj Close\n",
      "374 2012-07-02  2012      7   AAPL     76.152\n",
      "375 2012-07-03  2012      7   AAPL     77.038\n",
      "376 2012-07-05  2012      7   AAPL     78.391\n",
      "377 2012-07-06  2012      7   AAPL     77.869\n",
      "378 2012-07-09  2012      7   AAPL     78.899\n",
      "('AAPL', 2012, 8)\n",
      "          Date  Year  Month Symbol  Adj Close\n",
      "395 2012-08-01  2012      8   AAPL     77.989\n",
      "396 2012-08-02  2012      8   AAPL     78.115\n",
      "397 2012-08-03  2012      8   AAPL     79.131\n",
      "398 2012-08-06  2012      8   AAPL     80.012\n",
      "399 2012-08-07  2012      8   AAPL     79.801\n",
      "('AAPL', 2012, 9)\n",
      "          Date  Year  Month Symbol  Adj Close\n",
      "418 2012-09-04  2012      9   AAPL     87.121\n",
      "419 2012-09-05  2012      9   AAPL     86.509\n",
      "420 2012-09-06  2012      9   AAPL     87.289\n",
      "421 2012-09-07  2012      9   AAPL     87.827\n",
      "422 2012-09-10  2012      9   AAPL     85.543\n",
      "('AAPL', 2012, 10)\n",
      "          Date  Year  Month Symbol  Adj Close\n",
      "437 2012-10-01  2012     10   AAPL     85.110\n",
      "438 2012-10-02  2012     10   AAPL     85.358\n",
      "439 2012-10-03  2012     10   AAPL     86.667\n",
      "440 2012-10-04  2012     10   AAPL     86.067\n",
      "441 2012-10-05  2012     10   AAPL     84.232\n",
      "('AAPL', 2012, 11)\n",
      "          Date  Year  Month Symbol  Adj Close\n",
      "458 2012-11-01  2012     11   AAPL     76.998\n",
      "459 2012-11-02  2012     11   AAPL     74.450\n",
      "460 2012-11-05  2012     11   AAPL     75.459\n",
      "461 2012-11-06  2012     11   AAPL     75.231\n",
      "462 2012-11-07  2012     11   AAPL     72.352\n",
      "('AAPL', 2012, 12)\n",
      "          Date  Year  Month Symbol  Adj Close\n",
      "479 2012-12-03  2012     12   AAPL     76.008\n",
      "480 2012-12-04  2012     12   AAPL     74.667\n",
      "481 2012-12-05  2012     12   AAPL     69.861\n",
      "482 2012-12-06  2012     12   AAPL     70.957\n",
      "483 2012-12-07  2012     12   AAPL     69.143\n",
      "('MSFT', 2012, 1)\n",
      "        Date  Year  Month Symbol  Adj Close\n",
      "0 2012-01-03  2012      1   MSFT     22.910\n",
      "1 2012-01-04  2012      1   MSFT     23.449\n",
      "2 2012-01-05  2012      1   MSFT     23.689\n",
      "3 2012-01-06  2012      1   MSFT     24.057\n",
      "4 2012-01-09  2012      1   MSFT     23.740\n",
      "('MSFT', 2012, 2)\n",
      "         Date  Year  Month Symbol  Adj Close\n",
      "20 2012-02-01  2012      2   MSFT     25.580\n",
      "21 2012-02-02  2012      2   MSFT     25.631\n",
      "22 2012-02-03  2012      2   MSFT     25.879\n",
      "23 2012-02-06  2012      2   MSFT     25.845\n",
      "24 2012-02-07  2012      2   MSFT     25.974\n",
      "('MSFT', 2012, 3)\n",
      "         Date  Year  Month Symbol  Adj Close\n",
      "40 2012-03-01  2012      3   MSFT     27.816\n",
      "41 2012-03-02  2012      3   MSFT     27.635\n",
      "42 2012-03-05  2012      3   MSFT     27.394\n",
      "43 2012-03-06  2012      3   MSFT     27.187\n",
      "44 2012-03-07  2012      3   MSFT     27.428\n",
      "('MSFT', 2012, 4)\n",
      "         Date  Year  Month Symbol  Adj Close\n",
      "62 2012-04-02  2012      4   MSFT     27.816\n",
      "63 2012-04-03  2012      4   MSFT     27.514\n",
      "64 2012-04-04  2012      4   MSFT     26.885\n",
      "65 2012-04-05  2012      4   MSFT     27.152\n",
      "66 2012-04-09  2012      4   MSFT     26.791\n",
      "('MSFT', 2012, 5)\n",
      "         Date  Year  Month Symbol  Adj Close\n",
      "82 2012-05-01  2012      5   MSFT     27.575\n",
      "83 2012-05-02  2012      5   MSFT     27.394\n",
      "84 2012-05-03  2012      5   MSFT     27.359\n",
      "85 2012-05-04  2012      5   MSFT     26.687\n",
      "86 2012-05-07  2012      5   MSFT     26.403\n",
      "('MSFT', 2012, 6)\n",
      "          Date  Year  Month Symbol  Adj Close\n",
      "104 2012-06-01  2012      6   MSFT     24.669\n",
      "105 2012-06-04  2012      6   MSFT     24.755\n",
      "106 2012-06-05  2012      6   MSFT     24.721\n",
      "107 2012-06-06  2012      6   MSFT     25.449\n",
      "108 2012-06-07  2012      6   MSFT     25.345\n",
      "('MSFT', 2012, 7)\n",
      "          Date  Year  Month Symbol  Adj Close\n",
      "125 2012-07-02  2012      7   MSFT     26.498\n",
      "126 2012-07-03  2012      7   MSFT     26.672\n",
      "127 2012-07-05  2012      7   MSFT     26.620\n",
      "128 2012-07-06  2012      7   MSFT     26.177\n",
      "129 2012-07-09  2012      7   MSFT     26.013\n",
      "('MSFT', 2012, 8)\n",
      "          Date  Year  Month Symbol  Adj Close\n",
      "146 2012-08-01  2012      8   MSFT     25.501\n",
      "147 2012-08-02  2012      8   MSFT     25.310\n",
      "148 2012-08-03  2012      8   MSFT     25.796\n",
      "149 2012-08-06  2012      8   MSFT     25.969\n",
      "150 2012-08-07  2012      8   MSFT     26.238\n",
      "('MSFT', 2012, 9)\n",
      "          Date  Year  Month Symbol  Adj Close\n",
      "169 2012-09-04  2012      9   MSFT     26.525\n",
      "170 2012-09-05  2012      9   MSFT     26.525\n",
      "171 2012-09-06  2012      9   MSFT     27.363\n",
      "172 2012-09-07  2012      9   MSFT     27.014\n",
      "173 2012-09-10  2012      9   MSFT     26.813\n",
      "('MSFT', 2012, 10)\n",
      "          Date  Year  Month Symbol  Adj Close\n",
      "188 2012-10-01  2012     10   MSFT     25.740\n",
      "189 2012-10-02  2012     10   MSFT     25.888\n",
      "190 2012-10-03  2012     10   MSFT     26.063\n",
      "191 2012-10-04  2012     10   MSFT     26.211\n",
      "192 2012-10-05  2012     10   MSFT     26.054\n",
      "('MSFT', 2012, 11)\n",
      "          Date  Year  Month Symbol  Adj Close\n",
      "209 2012-11-01  2012     11   MSFT     25.766\n",
      "210 2012-11-02  2012     11   MSFT     25.749\n",
      "211 2012-11-05  2012     11   MSFT     25.862\n",
      "212 2012-11-06  2012     11   MSFT     26.063\n",
      "213 2012-11-07  2012     11   MSFT     25.382\n",
      "('MSFT', 2012, 12)\n",
      "          Date  Year  Month Symbol  Adj Close\n",
      "230 2012-12-03  2012     12   MSFT     23.259\n",
      "231 2012-12-04  2012     12   MSFT     23.206\n",
      "232 2012-12-05  2012     12   MSFT     23.470\n",
      "233 2012-12-06  2012     12   MSFT     23.523\n",
      "234 2012-12-07  2012     12   MSFT     23.285\n"
     ]
    }
   ],
   "source": [
    "mcg = s4g.groupby(['Symbol', 'Year', 'Month'])\n",
    "print_groups(mcg)"
   ]
  },
  {
   "cell_type": "code",
   "execution_count": 185,
   "metadata": {
    "scrolled": true
   },
   "outputs": [
    {
     "data": {
      "text/plain": [
       "                        Date  Adj Close\n",
       "Symbol Year Month                      \n",
       "MSFT   2012 1     2012-01-03     22.910\n",
       "            1     2012-01-04     23.449\n",
       "            1     2012-01-05     23.689\n",
       "            1     2012-01-06     24.057\n",
       "            1     2012-01-09     23.740\n",
       "            1     2012-01-10     23.826\n",
       "...                      ...        ...\n",
       "AAPL   2012 12    2012-12-20     67.649\n",
       "            12    2012-12-21     67.338\n",
       "            12    2012-12-24     67.447\n",
       "            12    2012-12-26     66.517\n",
       "            12    2012-12-27     66.785\n",
       "            12    2012-12-28     66.075\n",
       "\n",
       "[498 rows x 2 columns]"
      ]
     },
     "execution_count": 185,
     "metadata": {},
     "output_type": "execute_result"
    }
   ],
   "source": [
    "mi = s4g.set_index(['Symbol', 'Year', 'Month'])\n",
    "mi"
   ]
  },
  {
   "cell_type": "code",
   "execution_count": 188,
   "metadata": {},
   "outputs": [
    {
     "name": "stdout",
     "output_type": "stream",
     "text": [
      "('AAPL', 2012, 1)\n",
      "                        Date  Adj Close\n",
      "Symbol Year Month                      \n",
      "AAPL   2012 1     2012-01-03     52.852\n",
      "            1     2012-01-04     53.136\n",
      "            1     2012-01-05     53.726\n",
      "            1     2012-01-06     54.288\n",
      "            1     2012-01-09     54.202\n",
      "('AAPL', 2012, 2)\n",
      "                        Date  Adj Close\n",
      "Symbol Year Month                      \n",
      "AAPL   2012 2     2012-02-01     58.631\n",
      "            2     2012-02-02     58.493\n",
      "            2     2012-02-03     59.079\n",
      "            2     2012-02-06     59.630\n",
      "            2     2012-02-07     60.255\n",
      "('AAPL', 2012, 3)\n",
      "                        Date  Adj Close\n",
      "Symbol Year Month                      \n",
      "AAPL   2012 3     2012-03-01     69.977\n",
      "            3     2012-03-02     70.068\n",
      "            3     2012-03-05     68.523\n",
      "            3     2012-03-06     68.150\n",
      "            3     2012-03-07     68.205\n",
      "('AAPL', 2012, 4)\n",
      "                        Date  Adj Close\n",
      "Symbol Year Month                      \n",
      "AAPL   2012 4     2012-04-02     79.508\n",
      "            4     2012-04-03     80.882\n",
      "            4     2012-04-04     80.238\n",
      "            4     2012-04-05     81.442\n",
      "            4     2012-04-09     81.770\n",
      "('AAPL', 2012, 5)\n",
      "                        Date  Adj Close\n",
      "Symbol Year Month                      \n",
      "AAPL   2012 5     2012-05-01     74.817\n",
      "            5     2012-05-02     75.311\n",
      "            5     2012-05-03     74.777\n",
      "            5     2012-05-04     72.647\n",
      "            5     2012-05-07     73.191\n",
      "('AAPL', 2012, 6)\n",
      "                        Date  Adj Close\n",
      "Symbol Year Month                      \n",
      "AAPL   2012 6     2012-06-01     72.100\n",
      "            6     2012-06-04     72.524\n",
      "            6     2012-06-05     72.336\n",
      "            6     2012-06-06     73.445\n",
      "            6     2012-06-07     73.479\n",
      "('AAPL', 2012, 7)\n",
      "                        Date  Adj Close\n",
      "Symbol Year Month                      \n",
      "AAPL   2012 7     2012-07-02     76.152\n",
      "            7     2012-07-03     77.038\n",
      "            7     2012-07-05     78.391\n",
      "            7     2012-07-06     77.869\n",
      "            7     2012-07-09     78.899\n",
      "('AAPL', 2012, 8)\n",
      "                        Date  Adj Close\n",
      "Symbol Year Month                      \n",
      "AAPL   2012 8     2012-08-01     77.989\n",
      "            8     2012-08-02     78.115\n",
      "            8     2012-08-03     79.131\n",
      "            8     2012-08-06     80.012\n",
      "            8     2012-08-07     79.801\n",
      "('AAPL', 2012, 9)\n",
      "                        Date  Adj Close\n",
      "Symbol Year Month                      \n",
      "AAPL   2012 9     2012-09-04     87.121\n",
      "            9     2012-09-05     86.509\n",
      "            9     2012-09-06     87.289\n",
      "            9     2012-09-07     87.827\n",
      "            9     2012-09-10     85.543\n",
      "('AAPL', 2012, 10)\n",
      "                        Date  Adj Close\n",
      "Symbol Year Month                      \n",
      "AAPL   2012 10    2012-10-01     85.110\n",
      "            10    2012-10-02     85.358\n",
      "            10    2012-10-03     86.667\n",
      "            10    2012-10-04     86.067\n",
      "            10    2012-10-05     84.232\n",
      "('AAPL', 2012, 11)\n",
      "                        Date  Adj Close\n",
      "Symbol Year Month                      \n",
      "AAPL   2012 11    2012-11-01     76.998\n",
      "            11    2012-11-02     74.450\n",
      "            11    2012-11-05     75.459\n",
      "            11    2012-11-06     75.231\n",
      "            11    2012-11-07     72.352\n",
      "('AAPL', 2012, 12)\n",
      "                        Date  Adj Close\n",
      "Symbol Year Month                      \n",
      "AAPL   2012 12    2012-12-03     76.008\n",
      "            12    2012-12-04     74.667\n",
      "            12    2012-12-05     69.861\n",
      "            12    2012-12-06     70.957\n",
      "            12    2012-12-07     69.143\n",
      "('MSFT', 2012, 1)\n",
      "                        Date  Adj Close\n",
      "Symbol Year Month                      \n",
      "MSFT   2012 1     2012-01-03     22.910\n",
      "            1     2012-01-04     23.449\n",
      "            1     2012-01-05     23.689\n",
      "            1     2012-01-06     24.057\n",
      "            1     2012-01-09     23.740\n",
      "('MSFT', 2012, 2)\n",
      "                        Date  Adj Close\n",
      "Symbol Year Month                      \n",
      "MSFT   2012 2     2012-02-01     25.580\n",
      "            2     2012-02-02     25.631\n",
      "            2     2012-02-03     25.879\n",
      "            2     2012-02-06     25.845\n",
      "            2     2012-02-07     25.974\n",
      "('MSFT', 2012, 3)\n",
      "                        Date  Adj Close\n",
      "Symbol Year Month                      \n",
      "MSFT   2012 3     2012-03-01     27.816\n",
      "            3     2012-03-02     27.635\n",
      "            3     2012-03-05     27.394\n",
      "            3     2012-03-06     27.187\n",
      "            3     2012-03-07     27.428\n",
      "('MSFT', 2012, 4)\n",
      "                        Date  Adj Close\n",
      "Symbol Year Month                      \n",
      "MSFT   2012 4     2012-04-02     27.816\n",
      "            4     2012-04-03     27.514\n",
      "            4     2012-04-04     26.885\n",
      "            4     2012-04-05     27.152\n",
      "            4     2012-04-09     26.791\n",
      "('MSFT', 2012, 5)\n",
      "                        Date  Adj Close\n",
      "Symbol Year Month                      \n",
      "MSFT   2012 5     2012-05-01     27.575\n",
      "            5     2012-05-02     27.394\n",
      "            5     2012-05-03     27.359\n",
      "            5     2012-05-04     26.687\n",
      "            5     2012-05-07     26.403\n",
      "('MSFT', 2012, 6)\n",
      "                        Date  Adj Close\n",
      "Symbol Year Month                      \n",
      "MSFT   2012 6     2012-06-01     24.669\n",
      "            6     2012-06-04     24.755\n",
      "            6     2012-06-05     24.721\n",
      "            6     2012-06-06     25.449\n",
      "            6     2012-06-07     25.345\n",
      "('MSFT', 2012, 7)\n",
      "                        Date  Adj Close\n",
      "Symbol Year Month                      \n",
      "MSFT   2012 7     2012-07-02     26.498\n",
      "            7     2012-07-03     26.672\n",
      "            7     2012-07-05     26.620\n",
      "            7     2012-07-06     26.177\n",
      "            7     2012-07-09     26.013\n",
      "('MSFT', 2012, 8)\n",
      "                        Date  Adj Close\n",
      "Symbol Year Month                      \n",
      "MSFT   2012 8     2012-08-01     25.501\n",
      "            8     2012-08-02     25.310\n",
      "            8     2012-08-03     25.796\n",
      "            8     2012-08-06     25.969\n",
      "            8     2012-08-07     26.238\n",
      "('MSFT', 2012, 9)\n",
      "                        Date  Adj Close\n",
      "Symbol Year Month                      \n",
      "MSFT   2012 9     2012-09-04     26.525\n",
      "            9     2012-09-05     26.525\n",
      "            9     2012-09-06     27.363\n",
      "            9     2012-09-07     27.014\n",
      "            9     2012-09-10     26.813\n",
      "('MSFT', 2012, 10)\n",
      "                        Date  Adj Close\n",
      "Symbol Year Month                      \n",
      "MSFT   2012 10    2012-10-01     25.740\n",
      "            10    2012-10-02     25.888\n",
      "            10    2012-10-03     26.063\n",
      "            10    2012-10-04     26.211\n",
      "            10    2012-10-05     26.054\n",
      "('MSFT', 2012, 11)\n",
      "                        Date  Adj Close\n",
      "Symbol Year Month                      \n",
      "MSFT   2012 11    2012-11-01     25.766\n",
      "            11    2012-11-02     25.749\n",
      "            11    2012-11-05     25.862\n",
      "            11    2012-11-06     26.063\n",
      "            11    2012-11-07     25.382\n",
      "('MSFT', 2012, 12)\n",
      "                        Date  Adj Close\n",
      "Symbol Year Month                      \n",
      "MSFT   2012 12    2012-12-03     23.259\n",
      "            12    2012-12-04     23.206\n",
      "            12    2012-12-05     23.470\n",
      "            12    2012-12-06     23.523\n",
      "            12    2012-12-07     23.285\n"
     ]
    }
   ],
   "source": [
    "mig_l12 = mi.groupby(level=['Symbol', 'Year', 'Month'])\n",
    "print_groups(mig_l12)"
   ]
  },
  {
   "cell_type": "markdown",
   "metadata": {},
   "source": [
    "### Aggregating"
   ]
  },
  {
   "cell_type": "code",
   "execution_count": 201,
   "metadata": {},
   "outputs": [
    {
     "data": {
      "text/plain": [
       "                   Adj Close\n",
       "Symbol Year Month           \n",
       "AAPL   2012 1         55.082\n",
       "            2         63.949\n",
       "            3         74.223\n",
       "            4         77.885\n",
       "            5         72.573\n",
       "            6         73.844\n",
       "...                      ...\n",
       "MSFT   2012 7         25.802\n",
       "            8         26.429\n",
       "            9         26.868\n",
       "            10        25.370\n",
       "            11        24.395\n",
       "            12        23.742\n",
       "\n",
       "[24 rows x 1 columns]"
      ]
     },
     "execution_count": 201,
     "metadata": {},
     "output_type": "execute_result"
    }
   ],
   "source": [
    "mig_l12.agg(np.mean)"
   ]
  },
  {
   "cell_type": "code",
   "execution_count": 218,
   "metadata": {
    "scrolled": true
   },
   "outputs": [
    {
     "data": {
      "text/plain": [
       "   Symbol  Year  Month  Adj Close\n",
       "0    AAPL  2012      1     55.082\n",
       "1    AAPL  2012      2     63.949\n",
       "2    AAPL  2012      3     74.223\n",
       "3    AAPL  2012      4     77.885\n",
       "4    AAPL  2012      5     72.573\n",
       "5    AAPL  2012      6     73.844\n",
       "..    ...   ...    ...        ...\n",
       "18   MSFT  2012      7     25.802\n",
       "19   MSFT  2012      8     26.429\n",
       "20   MSFT  2012      9     26.868\n",
       "21   MSFT  2012     10     25.370\n",
       "22   MSFT  2012     11     24.395\n",
       "23   MSFT  2012     12     23.742\n",
       "\n",
       "[24 rows x 4 columns]"
      ]
     },
     "execution_count": 218,
     "metadata": {},
     "output_type": "execute_result"
    }
   ],
   "source": [
    "s4g.groupby(['Symbol', 'Year', 'Month'], as_index=False).agg(np.mean)"
   ]
  },
  {
   "cell_type": "code",
   "execution_count": 221,
   "metadata": {
    "scrolled": true
   },
   "outputs": [
    {
     "data": {
      "text/plain": [
       "                  Adj Close       \n",
       "                       mean    std\n",
       "Symbol Year Month                 \n",
       "AAPL   2012 1        55.082  1.715\n",
       "            2        63.949  3.405\n",
       "            3        74.223  3.970\n",
       "            4        77.885  2.921\n",
       "            5        72.573  1.899\n",
       "            6        73.844  0.966\n",
       "...                     ...    ...\n",
       "MSFT   2012 7        25.802  0.544\n",
       "            8        26.429  0.443\n",
       "            9        26.868  0.404\n",
       "            10       25.370  0.625\n",
       "            11       24.395  0.939\n",
       "            12       23.742  0.342\n",
       "\n",
       "[24 rows x 2 columns]"
      ]
     },
     "execution_count": 221,
     "metadata": {},
     "output_type": "execute_result"
    }
   ],
   "source": [
    "s4g.groupby(['Symbol', 'Year', 'Month']).agg([np.mean, np.std])"
   ]
  }
 ],
 "metadata": {
  "kernelspec": {
   "display_name": "Python 2",
   "language": "python",
   "name": "python2"
  },
  "language_info": {
   "codemirror_mode": {
    "name": "ipython",
    "version": 2
   },
   "file_extension": ".py",
   "mimetype": "text/x-python",
   "name": "python",
   "nbconvert_exporter": "python",
   "pygments_lexer": "ipython2",
   "version": "2.7.14"
  }
 },
 "nbformat": 4,
 "nbformat_minor": 2
}
