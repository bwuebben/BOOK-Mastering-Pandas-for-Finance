{
 "cells": [
  {
   "cell_type": "code",
   "execution_count": 1,
   "metadata": {
    "collapsed": true
   },
   "outputs": [],
   "source": [
    "import pandas as pd\n",
    "import numpy as np\n",
    "\n",
    "pd.set_option('display.notebook_repr_html', False)\n",
    "pd.set_option('display.max_columns', 10)\n",
    "pd.set_option('display.max_rows', 30)\n",
    "pd.set_option('precision', 7)\n",
    "\n",
    "import datetime\n",
    "from datetime import datetime\n",
    "\n",
    "import matplotlib.pyplot as plt\n",
    "plt.style.use('default')\n",
    "\n",
    "%matplotlib inline"
   ]
  },
  {
   "cell_type": "markdown",
   "metadata": {},
   "source": [
    "### Times series and the DatetimeIndex"
   ]
  },
  {
   "cell_type": "code",
   "execution_count": 2,
   "metadata": {},
   "outputs": [
    {
     "data": {
      "text/plain": [
       "DatetimeIndex(['2014-08-01', '2014-08-02'], dtype='datetime64[ns]', freq=None)"
      ]
     },
     "execution_count": 2,
     "metadata": {},
     "output_type": "execute_result"
    }
   ],
   "source": [
    "dates = [datetime(2014, 8, 1), datetime(2014, 8, 2)]\n",
    "dti = pd.DatetimeIndex(dates)\n",
    "dti"
   ]
  },
  {
   "cell_type": "code",
   "execution_count": 5,
   "metadata": {},
   "outputs": [
    {
     "data": {
      "text/plain": [
       "2014-08-01    0.4691123\n",
       "2014-08-02   -0.2828633\n",
       "dtype: float64"
      ]
     },
     "execution_count": 5,
     "metadata": {},
     "output_type": "execute_result"
    }
   ],
   "source": [
    "np.random.seed(123456)\n",
    "ts = pd.Series(np.random.randn(2), dates)\n",
    "ts"
   ]
  },
  {
   "cell_type": "code",
   "execution_count": 6,
   "metadata": {},
   "outputs": [
    {
     "data": {
      "text/plain": [
       "pandas.core.indexes.datetimes.DatetimeIndex"
      ]
     },
     "execution_count": 6,
     "metadata": {},
     "output_type": "execute_result"
    }
   ],
   "source": [
    "type(ts.index)"
   ]
  },
  {
   "cell_type": "code",
   "execution_count": 10,
   "metadata": {},
   "outputs": [
    {
     "data": {
      "text/plain": [
       "-0.28286334432866328"
      ]
     },
     "execution_count": 10,
     "metadata": {},
     "output_type": "execute_result"
    }
   ],
   "source": [
    "ts[datetime(2014, 8, 2)]"
   ]
  },
  {
   "cell_type": "code",
   "execution_count": 11,
   "metadata": {},
   "outputs": [
    {
     "data": {
      "text/plain": [
       "-0.28286334432866328"
      ]
     },
     "execution_count": 11,
     "metadata": {},
     "output_type": "execute_result"
    }
   ],
   "source": [
    "ts['2014-08-2']"
   ]
  },
  {
   "cell_type": "code",
   "execution_count": 12,
   "metadata": {},
   "outputs": [
    {
     "data": {
      "text/plain": [
       "2014-08-01    0.4691123\n",
       "2014-08-02   -0.2828633\n",
       "dtype: float64"
      ]
     },
     "execution_count": 12,
     "metadata": {},
     "output_type": "execute_result"
    }
   ],
   "source": [
    "np.random.seed(123456)\n",
    "dates = ['2014-08-01', '2014-08-02']\n",
    "ts = pd.Series(np.random.randn(2), dates)\n",
    "ts"
   ]
  },
  {
   "cell_type": "code",
   "execution_count": 13,
   "metadata": {},
   "outputs": [
    {
     "data": {
      "text/plain": [
       "DatetimeIndex(['2014-08-01', '2014-08-02', '2014-08-03', 'NaT'], dtype='datetime64[ns]', freq=None)"
      ]
     },
     "execution_count": 13,
     "metadata": {},
     "output_type": "execute_result"
    }
   ],
   "source": [
    "dti = pd.to_datetime(['Aug 1, 2014', '2014-08-02', '2014.8.3', None])\n",
    "dti"
   ]
  },
  {
   "cell_type": "code",
   "execution_count": 14,
   "metadata": {},
   "outputs": [
    {
     "data": {
      "text/plain": [
       "DatetimeIndex(['2014-08-01', 'NaT'], dtype='datetime64[ns]', freq=None)"
      ]
     },
     "execution_count": 14,
     "metadata": {},
     "output_type": "execute_result"
    }
   ],
   "source": [
    "dti2 = pd.to_datetime(['Aug 1, 2014', 'foo'], errors='coerce')\n",
    "dti2"
   ]
  },
  {
   "cell_type": "code",
   "execution_count": 15,
   "metadata": {},
   "outputs": [
    {
     "data": {
      "text/plain": [
       "(Timestamp('2014-08-01 00:00:00'), Timestamp('2014-08-01 00:00:00'))"
      ]
     },
     "execution_count": 15,
     "metadata": {},
     "output_type": "execute_result"
    }
   ],
   "source": [
    "dti1 = pd.to_datetime(['8/1/2014'])\n",
    "dti2 = pd.to_datetime(['1/8/2014'], dayfirst=True)\n",
    "dti1[0], dti2[0]"
   ]
  },
  {
   "cell_type": "code",
   "execution_count": 16,
   "metadata": {},
   "outputs": [
    {
     "data": {
      "text/plain": [
       "DatetimeIndex(['2014-08-01', '2014-08-01'], dtype='datetime64[ns]', freq=None)"
      ]
     },
     "execution_count": 16,
     "metadata": {},
     "output_type": "execute_result"
    }
   ],
   "source": [
    "pd.to_datetime([dti1[0], dti2[0]])"
   ]
  },
  {
   "cell_type": "code",
   "execution_count": 17,
   "metadata": {},
   "outputs": [
    {
     "data": {
      "text/plain": [
       "2014-08-01    0.4691123\n",
       "2014-08-02   -0.2828633\n",
       "2014-08-03   -1.5090585\n",
       "2014-08-04   -1.1356324\n",
       "2014-08-05    1.2121120\n",
       "2014-08-06   -0.1732146\n",
       "2014-08-07    0.1192087\n",
       "2014-08-08   -1.0442360\n",
       "2014-08-09   -0.8618490\n",
       "2014-08-10   -2.1045692\n",
       "Freq: D, dtype: float64"
      ]
     },
     "execution_count": 17,
     "metadata": {},
     "output_type": "execute_result"
    }
   ],
   "source": [
    "np.random.seed(123456)\n",
    "dates = pd.date_range('8/1/2014', periods=10)\n",
    "s1 = pd.Series(np.random.randn(10), dates)\n",
    "s1"
   ]
  },
  {
   "cell_type": "code",
   "execution_count": 18,
   "metadata": {
    "collapsed": true
   },
   "outputs": [],
   "source": [
    "from pandas_datareader import data as web\n",
    "import fix_yahoo_finance as yf\n",
    "\n",
    "yf.pdr_override() # to override pandas_datareader.data.get_data_yahoo() method"
   ]
  },
  {
   "cell_type": "code",
   "execution_count": 19,
   "metadata": {},
   "outputs": [
    {
     "name": "stdout",
     "output_type": "stream",
     "text": [
      "[*********************100%***********************]  1 of 1 downloaded\n"
     ]
    }
   ],
   "source": [
    "msft = web.get_data_yahoo('MSFT', start='2012-1-1', end='2014-1-1')"
   ]
  },
  {
   "cell_type": "code",
   "execution_count": 21,
   "metadata": {
    "collapsed": true
   },
   "outputs": [],
   "source": [
    "msft.to_csv(\"msftTimerSeries.csv\")"
   ]
  },
  {
   "cell_type": "code",
   "execution_count": 22,
   "metadata": {
    "collapsed": true
   },
   "outputs": [],
   "source": [
    "msft = pd.read_csv(\"msftTimerSeries.csv\", index_col=0, parse_dates=True)"
   ]
  },
  {
   "cell_type": "code",
   "execution_count": 23,
   "metadata": {},
   "outputs": [
    {
     "data": {
      "text/plain": [
       "                 Open       High        Low      Close  Adj Close     Volume\n",
       "Date                                                                        \n",
       "2012-01-03  26.549999  26.959999  26.389999  26.770000  22.688747   64731500\n",
       "2012-01-04  26.820000  27.469999  26.780001  27.400000  23.222702   80516100\n",
       "2012-01-05  27.379999  27.730000  27.290001  27.680000  23.460014   56081400\n",
       "2012-01-06  27.530001  28.190001  27.530001  28.110001  23.824459   99455500\n",
       "2012-01-09  28.049999  28.100000  27.719999  27.740000  23.510864   59706800\n",
       "2012-01-10  27.930000  28.150000  27.750000  27.840000  23.595615   60014400\n",
       "2012-01-11  27.430000  27.980000  27.370001  27.719999  23.493919   65582400\n",
       "2012-01-12  27.870001  28.020000  27.650000  28.000000  23.731228   49370800\n",
       "2012-01-13  27.930000  28.250000  27.790001  28.250000  23.943115   60196100\n",
       "2012-01-17  28.400000  28.650000  28.170000  28.260000  23.951586   72395300\n",
       "2012-01-18  28.309999  28.400000  27.969999  28.230000  23.926163   64860600\n",
       "2012-01-19  28.160000  28.440001  28.030001  28.120001  23.832932   74053500\n",
       "2012-01-20  28.820000  29.740000  28.750000  29.709999  25.180527  165902900\n",
       "2012-01-23  29.549999  29.950001  29.350000  29.730000  25.197481   76078100\n",
       "2012-01-24  29.469999  29.570000  29.180000  29.340000  24.866938   51703300\n",
       "...               ...        ...        ...        ...        ...        ...\n",
       "2013-12-10  38.610001  38.900002  38.020000  38.110001  34.218376   37828600\n",
       "2013-12-11  38.060001  38.299999  37.389999  37.610001  33.769428   39853400\n",
       "2013-12-12  37.639999  37.639999  37.180000  37.220001  33.419258   36012800\n",
       "2013-12-13  37.419998  37.450001  36.619999  36.689999  32.943378   40066100\n",
       "2013-12-16  36.730000  37.000000  36.540001  36.889999  33.122955   31734200\n",
       "2013-12-17  36.939999  37.110001  36.330002  36.520000  32.790733   45687700\n",
       "2013-12-18  36.360001  36.599998  35.529999  36.580002  32.844608   63192100\n",
       "2013-12-19  36.509998  36.549999  36.080002  36.250000  32.548306   34160100\n",
       "2013-12-20  36.200001  36.930000  36.189999  36.799999  33.042141   62649100\n",
       "2013-12-23  36.810001  36.889999  36.549999  36.619999  32.880516   25128700\n",
       "2013-12-24  36.720001  37.169998  36.639999  37.080002  33.293549   14243000\n",
       "2013-12-26  37.200001  37.490002  37.169998  37.439999  33.616791   17612800\n",
       "2013-12-27  37.580002  37.619999  37.169998  37.290001  33.482101   14563000\n",
       "2013-12-30  37.220001  37.380001  36.900002  37.290001  33.482101   16290500\n",
       "2013-12-31  37.400002  37.580002  37.220001  37.410000  33.589855   17503500\n",
       "\n",
       "[502 rows x 6 columns]"
      ]
     },
     "execution_count": 23,
     "metadata": {},
     "output_type": "execute_result"
    }
   ],
   "source": [
    "msft"
   ]
  },
  {
   "cell_type": "code",
   "execution_count": 24,
   "metadata": {},
   "outputs": [
    {
     "data": {
      "text/plain": [
       "Date\n",
       "2012-01-03    22.688747\n",
       "2012-01-04    23.222702\n",
       "2012-01-05    23.460014\n",
       "2012-01-06    23.824459\n",
       "2012-01-09    23.510864\n",
       "Name: Adj Close, dtype: float64"
      ]
     },
     "execution_count": 24,
     "metadata": {},
     "output_type": "execute_result"
    }
   ],
   "source": [
    "msftAC = msft['Adj Close']\n",
    "msftAC.head()"
   ]
  },
  {
   "cell_type": "code",
   "execution_count": 25,
   "metadata": {},
   "outputs": [
    {
     "data": {
      "text/plain": [
       "                 Open       High        Low  Close  Adj Close    Volume\n",
       "Date                                                                   \n",
       "2012-01-03  26.549999  26.959999  26.389999  26.77  22.688747  64731500\n",
       "2012-01-04  26.820000  27.469999  26.780001  27.40  23.222702  80516100\n",
       "2012-01-05  27.379999  27.730000  27.290001  27.68  23.460014  56081400"
      ]
     },
     "execution_count": 25,
     "metadata": {},
     "output_type": "execute_result"
    }
   ],
   "source": [
    "msft['2012-01-01':'2012-01-05']"
   ]
  },
  {
   "cell_type": "code",
   "execution_count": 26,
   "metadata": {},
   "outputs": [
    {
     "data": {
      "text/plain": [
       "                 Open       High        Low  Close  Adj Close    Volume\n",
       "Date                                                                   \n",
       "2012-01-03  26.549999  26.959999  26.389999  26.77  22.688747  64731500\n",
       "2012-01-04  26.820000  27.469999  26.780001  27.40  23.222702  80516100\n",
       "2012-01-05  27.379999  27.730000  27.290001  27.68  23.460014  56081400"
      ]
     },
     "execution_count": 26,
     "metadata": {},
     "output_type": "execute_result"
    }
   ],
   "source": [
    "msft.loc['2012-01-01':'2012-01-05']"
   ]
  },
  {
   "cell_type": "code",
   "execution_count": 362,
   "metadata": {},
   "outputs": [
    {
     "data": {
      "text/plain": [
       "Open         2.6549999e+01\n",
       "High         2.6959999e+01\n",
       "Low          2.6389999e+01\n",
       "Close        2.6770000e+01\n",
       "Adj Close    2.2909807e+01\n",
       "Volume       6.4731500e+07\n",
       "Name: 2012-01-03 00:00:00, dtype: float64"
      ]
     },
     "execution_count": 362,
     "metadata": {},
     "output_type": "execute_result"
    }
   ],
   "source": [
    "msft.loc['2012-01-03']"
   ]
  },
  {
   "cell_type": "code",
   "execution_count": 27,
   "metadata": {},
   "outputs": [
    {
     "data": {
      "text/plain": [
       "                 Open       High        Low  Close  Adj Close    Volume\n",
       "Date                                                                   \n",
       "2012-01-03  26.549999  26.959999  26.389999  26.77  22.688747  64731500"
      ]
     },
     "execution_count": 27,
     "metadata": {},
     "output_type": "execute_result"
    }
   ],
   "source": [
    "msft['2012-01-03':'2012-01-03']"
   ]
  },
  {
   "cell_type": "code",
   "execution_count": 29,
   "metadata": {},
   "outputs": [],
   "source": [
    "# this doesn't work, it's trying to look for a column with that name\n",
    "# msft['2012-01-03']"
   ]
  },
  {
   "cell_type": "code",
   "execution_count": 32,
   "metadata": {},
   "outputs": [
    {
     "name": "stdout",
     "output_type": "stream",
     "text": [
      "22.688747\n",
      "<class 'pandas.core.series.Series'>\n"
     ]
    }
   ],
   "source": [
    "# this does work because it's a Series\n",
    "print msftAC['2012-01-03']\n",
    "print type(msftAC)"
   ]
  },
  {
   "cell_type": "code",
   "execution_count": 366,
   "metadata": {},
   "outputs": [
    {
     "data": {
      "text/plain": [
       "                 Open       High        Low      Close  Adj Close    Volume\n",
       "Date                                                                       \n",
       "2012-01-03  26.549999  26.959999  26.389999  26.770000  22.909807  64731500\n",
       "2012-01-04  26.820000  27.469999  26.780001  27.400000  23.448965  80516100\n",
       "2012-01-05  27.379999  27.730000  27.290001  27.680000  23.688589  56081400\n",
       "2012-01-06  27.530001  28.190001  27.530001  28.110001  24.056585  99455500\n",
       "2012-01-09  28.049999  28.100000  27.719999  27.740000  23.739935  59706800"
      ]
     },
     "execution_count": 366,
     "metadata": {},
     "output_type": "execute_result"
    }
   ],
   "source": [
    "msft['2012-01'].head()"
   ]
  },
  {
   "cell_type": "markdown",
   "metadata": {},
   "source": [
    "### Creating time-series with specific frequencies"
   ]
  },
  {
   "cell_type": "code",
   "execution_count": 367,
   "metadata": {},
   "outputs": [
    {
     "data": {
      "text/plain": [
       "2014-08-01 00:00:00         0\n",
       "2014-08-01 00:01:00         1\n",
       "2014-08-01 00:02:00         2\n",
       "2014-08-01 00:03:00         3\n",
       "2014-08-01 00:04:00         4\n",
       "2014-08-01 00:05:00         5\n",
       "2014-08-01 00:06:00         6\n",
       "                        ...  \n",
       "2014-10-29 23:53:00    129593\n",
       "2014-10-29 23:54:00    129594\n",
       "2014-10-29 23:55:00    129595\n",
       "2014-10-29 23:56:00    129596\n",
       "2014-10-29 23:57:00    129597\n",
       "2014-10-29 23:58:00    129598\n",
       "2014-10-29 23:59:00    129599\n",
       "Freq: T, dtype: int32"
      ]
     },
     "execution_count": 367,
     "metadata": {},
     "output_type": "execute_result"
    }
   ],
   "source": [
    "bymin = pd.Series(np.arange(0, 90*60*24),\n",
    "                  pd.date_range('2014-08-01',\n",
    "                                '2014-10-29 23:59:00', \n",
    "                                 freq='T'))\n",
    "bymin"
   ]
  },
  {
   "cell_type": "code",
   "execution_count": 368,
   "metadata": {},
   "outputs": [
    {
     "data": {
      "text/plain": [
       "2014-08-01 12:30:00    750\n",
       "2014-08-01 12:31:00    751\n",
       "2014-08-01 12:32:00    752\n",
       "2014-08-01 12:33:00    753\n",
       "2014-08-01 12:34:00    754\n",
       "2014-08-01 12:35:00    755\n",
       "2014-08-01 12:36:00    756\n",
       "                      ... \n",
       "2014-08-01 12:53:00    773\n",
       "2014-08-01 12:54:00    774\n",
       "2014-08-01 12:55:00    775\n",
       "2014-08-01 12:56:00    776\n",
       "2014-08-01 12:57:00    777\n",
       "2014-08-01 12:58:00    778\n",
       "2014-08-01 12:59:00    779\n",
       "Freq: T, dtype: int32"
      ]
     },
     "execution_count": 368,
     "metadata": {},
     "output_type": "execute_result"
    }
   ],
   "source": [
    "bymin['2014-08-01 12:30':'2014-08-01 12:59']"
   ]
  },
  {
   "cell_type": "markdown",
   "metadata": {},
   "source": [
    "### Representing intervals of time using periods"
   ]
  },
  {
   "cell_type": "code",
   "execution_count": 369,
   "metadata": {},
   "outputs": [
    {
     "data": {
      "text/plain": [
       "Period('2014-08', 'M')"
      ]
     },
     "execution_count": 369,
     "metadata": {},
     "output_type": "execute_result"
    }
   ],
   "source": [
    "aug2014 = pd.Period('2014-8', freq='M')\n",
    "aug2014"
   ]
  },
  {
   "cell_type": "code",
   "execution_count": 370,
   "metadata": {},
   "outputs": [
    {
     "data": {
      "text/plain": [
       "(Timestamp('2014-08-01 00:00:00'), Timestamp('2014-08-31 23:59:59.999999999'))"
      ]
     },
     "execution_count": 370,
     "metadata": {},
     "output_type": "execute_result"
    }
   ],
   "source": [
    "aug2014.start_time, aug2014.end_time"
   ]
  },
  {
   "cell_type": "code",
   "execution_count": 371,
   "metadata": {},
   "outputs": [
    {
     "data": {
      "text/plain": [
       "Period('2014-09', 'M')"
      ]
     },
     "execution_count": 371,
     "metadata": {},
     "output_type": "execute_result"
    }
   ],
   "source": [
    "sep2014 = aug2014 + 1\n",
    "sep2014"
   ]
  },
  {
   "cell_type": "code",
   "execution_count": 372,
   "metadata": {},
   "outputs": [
    {
     "data": {
      "text/plain": [
       "(Timestamp('2014-09-01 00:00:00'), Timestamp('2014-09-30 23:59:59.999999999'))"
      ]
     },
     "execution_count": 372,
     "metadata": {},
     "output_type": "execute_result"
    }
   ],
   "source": [
    "sep2014.start_time, sep2014.end_time"
   ]
  },
  {
   "cell_type": "code",
   "execution_count": 373,
   "metadata": {},
   "outputs": [
    {
     "data": {
      "text/plain": [
       "PeriodIndex(['2013-01', '2013-02', '2013-03', '2013-04', '2013-05', '2013-06',\n",
       "             '2013-07', '2013-08', '2013-09', '2013-10', '2013-11', '2013-12'],\n",
       "            dtype='period[M]', freq='M')"
      ]
     },
     "execution_count": 373,
     "metadata": {},
     "output_type": "execute_result"
    }
   ],
   "source": [
    "mp2013 = pd.period_range('1/1/2013', '12/31/2013', freq='M')\n",
    "mp2013"
   ]
  },
  {
   "cell_type": "code",
   "execution_count": 374,
   "metadata": {},
   "outputs": [
    {
     "data": {
      "text/plain": [
       "['2013-01, <MonthEnd>, 2013-01-01 00:00:00, 2013-01-31 23:59:59.999999999',\n",
       " '2013-02, <MonthEnd>, 2013-02-01 00:00:00, 2013-02-28 23:59:59.999999999',\n",
       " '2013-03, <MonthEnd>, 2013-03-01 00:00:00, 2013-03-31 23:59:59.999999999',\n",
       " '2013-04, <MonthEnd>, 2013-04-01 00:00:00, 2013-04-30 23:59:59.999999999',\n",
       " '2013-05, <MonthEnd>, 2013-05-01 00:00:00, 2013-05-31 23:59:59.999999999',\n",
       " '2013-06, <MonthEnd>, 2013-06-01 00:00:00, 2013-06-30 23:59:59.999999999',\n",
       " '2013-07, <MonthEnd>, 2013-07-01 00:00:00, 2013-07-31 23:59:59.999999999',\n",
       " '2013-08, <MonthEnd>, 2013-08-01 00:00:00, 2013-08-31 23:59:59.999999999',\n",
       " '2013-09, <MonthEnd>, 2013-09-01 00:00:00, 2013-09-30 23:59:59.999999999',\n",
       " '2013-10, <MonthEnd>, 2013-10-01 00:00:00, 2013-10-31 23:59:59.999999999',\n",
       " '2013-11, <MonthEnd>, 2013-11-01 00:00:00, 2013-11-30 23:59:59.999999999',\n",
       " '2013-12, <MonthEnd>, 2013-12-01 00:00:00, 2013-12-31 23:59:59.999999999']"
      ]
     },
     "execution_count": 374,
     "metadata": {},
     "output_type": "execute_result"
    }
   ],
   "source": [
    "['{}, {}, {}, {}'.format(p, p.freq, p.start_time, p.end_time) for p in mp2013]"
   ]
  },
  {
   "cell_type": "code",
   "execution_count": 375,
   "metadata": {},
   "outputs": [
    {
     "name": "stdout",
     "output_type": "stream",
     "text": [
      "2013-01 <MonthEnd> 2013-01-01 00:00:00 2013-01-31 23:59:59.999999999\n",
      "2013-02 <MonthEnd> 2013-02-01 00:00:00 2013-02-28 23:59:59.999999999\n",
      "2013-03 <MonthEnd> 2013-03-01 00:00:00 2013-03-31 23:59:59.999999999\n",
      "2013-04 <MonthEnd> 2013-04-01 00:00:00 2013-04-30 23:59:59.999999999\n",
      "2013-05 <MonthEnd> 2013-05-01 00:00:00 2013-05-31 23:59:59.999999999\n",
      "2013-06 <MonthEnd> 2013-06-01 00:00:00 2013-06-30 23:59:59.999999999\n",
      "2013-07 <MonthEnd> 2013-07-01 00:00:00 2013-07-31 23:59:59.999999999\n",
      "2013-08 <MonthEnd> 2013-08-01 00:00:00 2013-08-31 23:59:59.999999999\n",
      "2013-09 <MonthEnd> 2013-09-01 00:00:00 2013-09-30 23:59:59.999999999\n",
      "2013-10 <MonthEnd> 2013-10-01 00:00:00 2013-10-31 23:59:59.999999999\n",
      "2013-11 <MonthEnd> 2013-11-01 00:00:00 2013-11-30 23:59:59.999999999\n",
      "2013-12 <MonthEnd> 2013-12-01 00:00:00 2013-12-31 23:59:59.999999999\n"
     ]
    }
   ],
   "source": [
    "for p in mp2013:\n",
    "    print(\"{0} {1} {2} {3}\".format(p, p.freq, p.start_time, p.end_time))"
   ]
  },
  {
   "cell_type": "code",
   "execution_count": 376,
   "metadata": {
    "scrolled": false
   },
   "outputs": [
    {
     "data": {
      "text/plain": [
       "2013-01    0.4691123\n",
       "2013-02   -0.2828633\n",
       "2013-03   -1.5090585\n",
       "2013-04   -1.1356324\n",
       "2013-05    1.2121120\n",
       "2013-06   -0.1732146\n",
       "2013-07    0.1192087\n",
       "2013-08   -1.0442360\n",
       "2013-09   -0.8618490\n",
       "2013-10   -2.1045692\n",
       "2013-11   -0.4949293\n",
       "2013-12    1.0718038\n",
       "Freq: M, dtype: float64"
      ]
     },
     "execution_count": 376,
     "metadata": {},
     "output_type": "execute_result"
    }
   ],
   "source": [
    "np.random.seed(123456)\n",
    "ps = pd.Series(np.random.randn(12), mp2013)\n",
    "ps"
   ]
  },
  {
   "cell_type": "markdown",
   "metadata": {},
   "source": [
    "### Shifting and lagging time-series data"
   ]
  },
  {
   "cell_type": "code",
   "execution_count": 377,
   "metadata": {},
   "outputs": [
    {
     "data": {
      "text/plain": [
       "Date\n",
       "2012-01-03    22.909807\n",
       "2012-01-04    23.448965\n",
       "2012-01-05    23.688589\n",
       "2012-01-06    24.056585\n",
       "2012-01-09    23.739935\n",
       "Name: Adj Close, dtype: float64"
      ]
     },
     "execution_count": 377,
     "metadata": {},
     "output_type": "execute_result"
    }
   ],
   "source": [
    "msftAC.head()"
   ]
  },
  {
   "cell_type": "code",
   "execution_count": 378,
   "metadata": {},
   "outputs": [
    {
     "data": {
      "text/plain": [
       "Date\n",
       "2012-01-03          NaN\n",
       "2012-01-04    22.909807\n",
       "2012-01-05    23.448965\n",
       "2012-01-06    23.688589\n",
       "2012-01-09    24.056585\n",
       "Name: Adj Close, dtype: float64"
      ]
     },
     "execution_count": 378,
     "metadata": {},
     "output_type": "execute_result"
    }
   ],
   "source": [
    "shifted_forward = msftAC.shift()\n",
    "shifted_forward.head()"
   ]
  },
  {
   "cell_type": "code",
   "execution_count": 379,
   "metadata": {},
   "outputs": [
    {
     "data": {
      "text/plain": [
       "Date\n",
       "2012-01-03 00:00:01    22.909807\n",
       "2012-01-04 00:00:01    23.448965\n",
       "2012-01-05 00:00:01    23.688589\n",
       "2012-01-06 00:00:01    24.056585\n",
       "2012-01-09 00:00:01    23.739935\n",
       "2012-01-10 00:00:01    23.825512\n",
       "2012-01-11 00:00:01    23.722824\n",
       "                         ...    \n",
       "2013-12-20 00:00:01    33.364079\n",
       "2013-12-23 00:00:01    33.200878\n",
       "2013-12-24 00:00:01    33.617931\n",
       "2013-12-26 00:00:01    33.944324\n",
       "2013-12-27 00:00:01    33.808323\n",
       "2013-12-30 00:00:01    33.808323\n",
       "2013-12-31 00:00:01    33.917126\n",
       "Name: Adj Close, dtype: float64"
      ]
     },
     "execution_count": 379,
     "metadata": {},
     "output_type": "execute_result"
    }
   ],
   "source": [
    "# shift by frequencies\n",
    "msftAC.shift(1, freq='S')"
   ]
  },
  {
   "cell_type": "code",
   "execution_count": 380,
   "metadata": {},
   "outputs": [
    {
     "data": {
      "text/plain": [
       "Date\n",
       "2012-01-04    22.909807\n",
       "2012-01-05    23.448965\n",
       "2012-01-06    23.688589\n",
       "2012-01-07    24.056585\n",
       "2012-01-10    23.739935\n",
       "Name: Adj Close, dtype: float64"
      ]
     },
     "execution_count": 380,
     "metadata": {},
     "output_type": "execute_result"
    }
   ],
   "source": [
    "msftAC.tshift(1, freq='d').head()"
   ]
  },
  {
   "cell_type": "markdown",
   "metadata": {},
   "source": [
    "### Frequency conversion of time-series data"
   ]
  },
  {
   "cell_type": "code",
   "execution_count": 381,
   "metadata": {},
   "outputs": [
    {
     "data": {
      "text/plain": [
       "Date\n",
       "2012-01-03    22.909807\n",
       "2012-01-04    23.448965\n",
       "Name: Adj Close, dtype: float64"
      ]
     },
     "execution_count": 381,
     "metadata": {},
     "output_type": "execute_result"
    }
   ],
   "source": [
    "sample = msftAC[:2]\n",
    "sample"
   ]
  },
  {
   "cell_type": "code",
   "execution_count": 382,
   "metadata": {},
   "outputs": [
    {
     "data": {
      "text/plain": [
       "Date\n",
       "2012-01-03 00:00:00    22.909807\n",
       "2012-01-03 01:00:00          NaN\n",
       "2012-01-03 02:00:00          NaN\n",
       "2012-01-03 03:00:00          NaN\n",
       "2012-01-03 04:00:00          NaN\n",
       "2012-01-03 05:00:00          NaN\n",
       "2012-01-03 06:00:00          NaN\n",
       "                         ...    \n",
       "2012-01-03 18:00:00          NaN\n",
       "2012-01-03 19:00:00          NaN\n",
       "2012-01-03 20:00:00          NaN\n",
       "2012-01-03 21:00:00          NaN\n",
       "2012-01-03 22:00:00          NaN\n",
       "2012-01-03 23:00:00          NaN\n",
       "2012-01-04 00:00:00    23.448965\n",
       "Freq: H, Name: Adj Close, dtype: float64"
      ]
     },
     "execution_count": 382,
     "metadata": {},
     "output_type": "execute_result"
    }
   ],
   "source": [
    "sample.asfreq('H')"
   ]
  },
  {
   "cell_type": "code",
   "execution_count": 383,
   "metadata": {},
   "outputs": [
    {
     "data": {
      "text/plain": [
       "Date\n",
       "2012-01-03 00:00:00    22.909807\n",
       "2012-01-03 01:00:00    22.909807\n",
       "2012-01-03 02:00:00    22.909807\n",
       "2012-01-03 03:00:00    22.909807\n",
       "2012-01-03 04:00:00    22.909807\n",
       "2012-01-03 05:00:00    22.909807\n",
       "2012-01-03 06:00:00    22.909807\n",
       "                         ...    \n",
       "2012-01-03 18:00:00    22.909807\n",
       "2012-01-03 19:00:00    22.909807\n",
       "2012-01-03 20:00:00    22.909807\n",
       "2012-01-03 21:00:00    22.909807\n",
       "2012-01-03 22:00:00    22.909807\n",
       "2012-01-03 23:00:00    22.909807\n",
       "2012-01-04 00:00:00    23.448965\n",
       "Freq: H, Name: Adj Close, dtype: float64"
      ]
     },
     "execution_count": 383,
     "metadata": {},
     "output_type": "execute_result"
    }
   ],
   "source": [
    "sample.asfreq('H', method='ffill')"
   ]
  },
  {
   "cell_type": "markdown",
   "metadata": {},
   "source": [
    "### Resampling of time-series"
   ]
  },
  {
   "cell_type": "code",
   "execution_count": 397,
   "metadata": {},
   "outputs": [
    {
     "data": {
      "text/plain": [
       "Date\n",
       "2012-01-03    1.0000000\n",
       "2012-01-04    1.0235339\n",
       "2012-01-05    1.0339934\n",
       "2012-01-06    1.0500562\n",
       "2012-01-09    1.0362346\n",
       "2012-01-10    1.0399700\n",
       "2012-01-11    1.0354877\n",
       "2012-01-12    1.0459471\n",
       "2012-01-13    1.0552859\n",
       "2012-01-17    1.0556594\n",
       "2012-01-18    1.0545387\n",
       "2012-01-19    1.0504296\n",
       "2012-01-20    1.1098245\n",
       "2012-01-23    1.1105717\n",
       "2012-01-24    1.0960032\n",
       "2012-01-25    1.1042212\n",
       "2012-01-26    1.1019797\n",
       "2012-01-27    1.0918939\n",
       "2012-01-30    1.1060890\n",
       "2012-01-31    1.1031006\n",
       "2012-02-01    1.1165485\n",
       "2012-02-02    1.1187897\n",
       "2012-02-03    1.1296228\n",
       "2012-02-06    1.1281284\n",
       "2012-02-07    1.1337319\n",
       "2012-02-08    1.1453120\n",
       "2012-02-09    1.1494212\n",
       "2012-02-10    1.1393353\n",
       "2012-02-13    1.1423235\n",
       "2012-02-14    1.1374354\n",
       "Name: Adj Close, dtype: float64"
      ]
     },
     "execution_count": 397,
     "metadata": {},
     "output_type": "execute_result"
    }
   ],
   "source": [
    "msft_cum_ret = (1 + msftAC.pct_change()).cumprod().fillna(1)\n",
    "msft_cum_ret.head(30)"
   ]
  },
  {
   "cell_type": "code",
   "execution_count": 404,
   "metadata": {},
   "outputs": [
    {
     "data": {
      "text/plain": [
       "Date\n",
       "2012-01-31    1.1031006\n",
       "2012-02-29    1.1934613\n",
       "2012-03-31    1.2130137\n",
       "2012-04-30    1.2039897\n",
       "2012-05-31    1.1047803\n",
       "2012-06-30    1.1577673\n",
       "2012-07-31    1.1153778\n",
       "2012-08-31    1.1741997\n",
       "2012-09-30    1.1338152\n",
       "2012-10-31    1.0873350\n",
       "2012-11-30    1.0225194\n",
       "2012-12-31    1.0259764\n",
       "2013-01-31    1.0544009\n",
       "2013-02-28    1.0766862\n",
       "2013-03-31    1.1080572\n",
       "2013-04-30    1.2819537\n",
       "2013-05-31    1.3611453\n",
       "2013-06-30    1.3471047\n",
       "2013-07-31    1.2418014\n",
       "2013-08-31    1.3118225\n",
       "2013-09-30    1.3071092\n",
       "2013-10-31    1.3907678\n",
       "2013-11-30    1.5089564\n",
       "2013-12-31    1.4804632\n",
       "Freq: M, Name: Adj Close, dtype: float64"
      ]
     },
     "execution_count": 404,
     "metadata": {},
     "output_type": "execute_result"
    }
   ],
   "source": [
    "msft_montly_cum_ret = msft_cum_ret.resample('M').last()\n",
    "msft_montly_cum_ret"
   ]
  },
  {
   "cell_type": "code",
   "execution_count": 411,
   "metadata": {},
   "outputs": [
    {
     "data": {
      "text/plain": [
       "                 open       high        low      close\n",
       "Date                                                  \n",
       "2012-01-31  1.0000000  1.1105717  1.0000000  1.1031006\n",
       "2012-02-29  1.1165485  1.1983493  1.1165485  1.1934613\n",
       "2012-03-31  1.2141420  1.2351983  1.1866931  1.2130137\n",
       "2012-04-30  1.2141420  1.2190298  1.1411955  1.2039897\n",
       "2012-05-31  1.2036135  1.2036135  1.0998599  1.1047803\n",
       "2012-06-30  1.0767726  1.1706354  1.0767726  1.1577673\n",
       "2012-07-31  1.1566317  1.1642015  1.0835852  1.1153778\n",
       "2012-08-31  1.1131065  1.1772476  1.1047803  1.1741997\n",
       "2012-09-30  1.1578176  1.1982018  1.1338152  1.1338152\n",
       "2012-10-31  1.1235286  1.1441020  1.0621897  1.0873350\n",
       "2012-11-30  1.1246715  1.1376253  1.0186781  1.0225194\n",
       "2012-12-31  1.0152210  1.0632356  1.0129167  1.0259764\n",
       "2013-01-31  1.0609309  1.0759114  1.0163736  1.0544009\n",
       "2013-02-28  1.0728386  1.0863687  1.0478711  1.0766862\n",
       "2013-03-31  1.0824957  1.1080572  1.0793972  1.1080572\n",
       "2013-04-30  1.1080572  1.2819537  1.1061207  1.2819537\n",
       "2013-05-31  1.2672366  1.3681657  1.2649125  1.3611453\n",
       "2013-06-30  1.3880561  1.3911764  1.2975730  1.3471047\n",
       "2013-07-31  1.3400851  1.4145774  1.2242507  1.2418014\n",
       "2013-08-31  1.2351712  1.3648452  1.2316610  1.3118225\n",
       "2013-09-30  1.2521230  1.3212488  1.2234513  1.3071092\n",
       "2013-10-31  1.3188925  1.4033360  1.2965049  1.3907678\n",
       "2013-11-30  1.3954807  1.5089564  1.3954807  1.5089564\n",
       "2013-12-31  1.5216196  1.5410110  1.4345572  1.4804632"
      ]
     },
     "execution_count": 411,
     "metadata": {},
     "output_type": "execute_result"
    }
   ],
   "source": [
    "msft_cum_ret.resample('M').apply('ohlc')"
   ]
  },
  {
   "cell_type": "code",
   "execution_count": 414,
   "metadata": {},
   "outputs": [
    {
     "data": {
      "text/plain": [
       "Date\n",
       "2012-01    1.1031006\n",
       "2012-02    1.1934613\n",
       "2012-03    1.2130137\n",
       "2012-04    1.2039897\n",
       "2012-05    1.1047803\n",
       "2012-06    1.1577673\n",
       "2012-07    1.1153778\n",
       "2012-08    1.1741997\n",
       "2012-09    1.1338152\n",
       "2012-10    1.0873350\n",
       "2012-11    1.0225194\n",
       "2012-12    1.0259764\n",
       "2013-01    1.0544009\n",
       "2013-02    1.0766862\n",
       "2013-03    1.1080572\n",
       "2013-04    1.2819537\n",
       "2013-05    1.3611453\n",
       "2013-06    1.3471047\n",
       "2013-07    1.2418014\n",
       "2013-08    1.3118225\n",
       "2013-09    1.3071092\n",
       "2013-10    1.3907678\n",
       "2013-11    1.5089564\n",
       "2013-12    1.4804632\n",
       "Freq: M, Name: Adj Close, dtype: float64"
      ]
     },
     "execution_count": 414,
     "metadata": {},
     "output_type": "execute_result"
    }
   ],
   "source": [
    "by_periods = msft_cum_ret.resample('M', kind='period').last()\n",
    "by_periods"
   ]
  },
  {
   "cell_type": "code",
   "execution_count": 416,
   "metadata": {},
   "outputs": [
    {
     "data": {
      "text/plain": [
       "Date\n",
       "2012-01-04    1.0235339\n",
       "2012-01-05    1.0339934\n",
       "Name: Adj Close, dtype: float64"
      ]
     },
     "execution_count": 416,
     "metadata": {},
     "output_type": "execute_result"
    }
   ],
   "source": [
    "sample = msft_cum_ret[1:3]\n",
    "sample"
   ]
  },
  {
   "cell_type": "code",
   "execution_count": 443,
   "metadata": {},
   "outputs": [
    {
     "data": {
      "text/plain": [
       "<matplotlib.axes._subplots.AxesSubplot at 0xc3ade10>"
      ]
     },
     "execution_count": 443,
     "metadata": {},
     "output_type": "execute_result"
    },
    {
     "data": {
      "image/png": "[encoded data removed]",
      "text/plain": [
       "<matplotlib.figure.Figure at 0xc3bceb8>"
      ]
     },
     "metadata": {},
     "output_type": "display_data"
    }
   ],
   "source": [
    "by_hour = sample.resample('H').last()\n",
    "by_hour.plot(marker='o')"
   ]
  },
  {
   "cell_type": "code",
   "execution_count": 435,
   "metadata": {},
   "outputs": [
    {
     "data": {
      "text/plain": [
       "<matplotlib.axes._subplots.AxesSubplot at 0xb15cf98>"
      ]
     },
     "execution_count": 435,
     "metadata": {},
     "output_type": "execute_result"
    },
    {
     "data": {
      "image/png": "[encoded data removed]",
      "text/plain": [
       "<matplotlib.figure.Figure at 0xb173748>"
      ]
     },
     "metadata": {},
     "output_type": "display_data"
    }
   ],
   "source": [
    "by_hour.interpolate().plot()"
   ]
  },
  {
   "cell_type": "code",
   "execution_count": null,
   "metadata": {
    "collapsed": true
   },
   "outputs": [],
   "source": []
  },
  {
   "cell_type": "code",
   "execution_count": null,
   "metadata": {
    "collapsed": true
   },
   "outputs": [],
   "source": []
  }
 ],
 "metadata": {
  "kernelspec": {
   "display_name": "Python 2",
   "language": "python",
   "name": "python2"
  },
  "language_info": {
   "codemirror_mode": {
    "name": "ipython",
    "version": 2
   },
   "file_extension": ".py",
   "mimetype": "text/x-python",
   "name": "python",
   "nbconvert_exporter": "python",
   "pygments_lexer": "ipython2",
   "version": "2.7.14"
  }
 },
 "nbformat": 4,
 "nbformat_minor": 2
}
